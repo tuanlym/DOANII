{
  "nbformat": 4,
  "nbformat_minor": 0,
  "metadata": {
    "colab": {
      "name": "Train_padded140.ipynb",
      "provenance": [],
      "collapsed_sections": [],
      "mount_file_id": "1Bw1yNDkhOzAK5IfkbLa-Qzw18kbSH2y3",
      "authorship_tag": "ABX9TyP3KvUPE/+grvnO/fF1MKJs",
      "include_colab_link": true
    },
    "kernelspec": {
      "name": "python3",
      "display_name": "Python 3"
    },
    "language_info": {
      "name": "python"
    }
  },
  "cells": [
    {
      "cell_type": "markdown",
      "metadata": {
        "id": "view-in-github",
        "colab_type": "text"
      },
      "source": [
        "<a href=\"https://colab.research.google.com/github/tuanlym/DOANII/blob/main/Train_padded140v1.ipynb\" target=\"_parent\"><img src=\"https://colab.research.google.com/assets/colab-badge.svg\" alt=\"Open In Colab\"/></a>"
      ]
    },
    {
      "cell_type": "code",
      "execution_count": null,
      "metadata": {
        "colab": {
          "base_uri": "https://localhost:8080/"
        },
        "id": "UXA1rNAcfoxf",
        "outputId": "3a9bb151-d09b-40e1-8174-93172ac2ee9f"
      },
      "outputs": [
        {
          "output_type": "stream",
          "name": "stdout",
          "text": [
            "Requirement already satisfied: keras in /usr/local/lib/python3.7/dist-packages (2.7.0)\n",
            "Collecting pyvi\n",
            "  Downloading pyvi-0.1.1-py2.py3-none-any.whl (8.5 MB)\n",
            "\u001b[K     |████████████████████████████████| 8.5 MB 25.4 MB/s \n",
            "\u001b[?25hCollecting sklearn-crfsuite\n",
            "  Downloading sklearn_crfsuite-0.3.6-py2.py3-none-any.whl (12 kB)\n",
            "Requirement already satisfied: scikit-learn in /usr/local/lib/python3.7/dist-packages (from pyvi) (1.0.2)\n",
            "Requirement already satisfied: scipy>=1.1.0 in /usr/local/lib/python3.7/dist-packages (from scikit-learn->pyvi) (1.4.1)\n",
            "Requirement already satisfied: numpy>=1.14.6 in /usr/local/lib/python3.7/dist-packages (from scikit-learn->pyvi) (1.19.5)\n",
            "Requirement already satisfied: joblib>=0.11 in /usr/local/lib/python3.7/dist-packages (from scikit-learn->pyvi) (1.1.0)\n",
            "Requirement already satisfied: threadpoolctl>=2.0.0 in /usr/local/lib/python3.7/dist-packages (from scikit-learn->pyvi) (3.1.0)\n",
            "Requirement already satisfied: six in /usr/local/lib/python3.7/dist-packages (from sklearn-crfsuite->pyvi) (1.15.0)\n",
            "Requirement already satisfied: tqdm>=2.0 in /usr/local/lib/python3.7/dist-packages (from sklearn-crfsuite->pyvi) (4.62.3)\n",
            "Requirement already satisfied: tabulate in /usr/local/lib/python3.7/dist-packages (from sklearn-crfsuite->pyvi) (0.8.9)\n",
            "Collecting python-crfsuite>=0.8.3\n",
            "  Downloading python_crfsuite-0.9.7-cp37-cp37m-manylinux1_x86_64.whl (743 kB)\n",
            "\u001b[K     |████████████████████████████████| 743 kB 46.7 MB/s \n",
            "\u001b[?25hInstalling collected packages: python-crfsuite, sklearn-crfsuite, pyvi\n",
            "Successfully installed python-crfsuite-0.9.7 pyvi-0.1.1 sklearn-crfsuite-0.3.6\n",
            "Requirement already satisfied: pandas in /usr/local/lib/python3.7/dist-packages (1.3.5)\n",
            "Requirement already satisfied: python-dateutil>=2.7.3 in /usr/local/lib/python3.7/dist-packages (from pandas) (2.8.2)\n",
            "Requirement already satisfied: pytz>=2017.3 in /usr/local/lib/python3.7/dist-packages (from pandas) (2018.9)\n",
            "Requirement already satisfied: numpy>=1.17.3 in /usr/local/lib/python3.7/dist-packages (from pandas) (1.19.5)\n",
            "Requirement already satisfied: six>=1.5 in /usr/local/lib/python3.7/dist-packages (from python-dateutil>=2.7.3->pandas) (1.15.0)\n",
            "Requirement already satisfied: numpy in /usr/local/lib/python3.7/dist-packages (1.19.5)\n",
            "Requirement already satisfied: gensim in /usr/local/lib/python3.7/dist-packages (3.6.0)\n",
            "Requirement already satisfied: scipy>=0.18.1 in /usr/local/lib/python3.7/dist-packages (from gensim) (1.4.1)\n",
            "Requirement already satisfied: numpy>=1.11.3 in /usr/local/lib/python3.7/dist-packages (from gensim) (1.19.5)\n",
            "Requirement already satisfied: six>=1.5.0 in /usr/local/lib/python3.7/dist-packages (from gensim) (1.15.0)\n",
            "Requirement already satisfied: smart-open>=1.2.1 in /usr/local/lib/python3.7/dist-packages (from gensim) (5.2.1)\n"
          ]
        }
      ],
      "source": [
        "!pip install keras\n",
        "!pip install pyvi\n",
        "!pip install pandas\n",
        "!pip install numpy\n",
        "!pip install gensim"
      ]
    },
    {
      "cell_type": "code",
      "source": [
        "import gensim, re\n",
        "import numpy as np\n",
        "import pandas as pd\n",
        "import pickle\n",
        "from os import listdir\n",
        "\n",
        "from sklearn.model_selection import train_test_split\n",
        "from keras.preprocessing.text import Tokenizer\n",
        "from keras.preprocessing.sequence import pad_sequences\n",
        "\n",
        "import sys\n",
        "import os\n",
        "from sklearn.metrics import ConfusionMatrixDisplay, confusion_matrix, classification_report\n",
        "from keras.regularizers import l1\n",
        "from keras.layers import Activation\n",
        "from keras.models import Sequential, load_model\n",
        "from keras.layers import LSTM, Dense, Embedding, Dropout, Flatten\n",
        "from pyvi import ViTokenizer\n",
        "from keras.preprocessing.text import Tokenizer\n",
        "from gensim.parsing.preprocessing import strip_non_alphanum, strip_multiple_whitespaces,preprocess_string, split_alphanum, strip_short, strip_numeric"
      ],
      "metadata": {
        "id": "t0PdJ7wpf0fj"
      },
      "execution_count": null,
      "outputs": []
    },
    {
      "cell_type": "code",
      "source": [
        ""
      ],
      "metadata": {
        "id": "Nka1hfR6f50i"
      },
      "execution_count": null,
      "outputs": []
    },
    {
      "cell_type": "code",
      "source": [
        "def clean_document(raw):\n",
        "    raw = ViTokenizer.tokenize(raw)\n",
        "    raw = strip_non_alphanum(raw).lower().strip()\n",
        "    raw = split_alphanum(raw)\n",
        "    raw = strip_short(raw, minsize=2)\n",
        "    raw = strip_numeric(raw)\n",
        "    tokens = raw.split()\n",
        "    return tokens"
      ],
      "metadata": {
        "id": "kL7BTkWTf6hr"
      },
      "execution_count": null,
      "outputs": []
    },
    {
      "cell_type": "code",
      "source": [
        "raw = \"! MỘt môn Học rất hay,,,, và bổ ích 456\"\n",
        "clean_document(raw)"
      ],
      "metadata": {
        "colab": {
          "base_uri": "https://localhost:8080/"
        },
        "id": "PM1-j_lODtsV",
        "outputId": "9d6a068e-a45a-4e9d-9438-812bdedde409"
      },
      "execution_count": null,
      "outputs": [
        {
          "output_type": "execute_result",
          "data": {
            "text/plain": [
              "['một', 'môn', 'học', 'rất', 'hay', 'và', 'bổ_ích']"
            ]
          },
          "metadata": {},
          "execution_count": 26
        }
      ]
    },
    {
      "cell_type": "code",
      "source": [
        "stop_word = ['bị', 'bởi', 'cả', 'các', 'cái', 'cần', 'càng', 'chỉ', 'chiếc', 'cho', 'chứ', 'chưa', 'chuyện', 'có', 'có_thể', 'cứ', 'của', 'cùng', 'cũng', 'đã', 'đang', 'đây', 'để', 'đến_nỗi', 'đều', 'điều', 'do', 'đó', 'được', 'dưới', 'gì', 'khi', 'không', 'là', 'lại', 'lên', 'lúc', 'mà', 'mỗi', 'một_cách', 'này', 'nên', 'nếu', 'ngay', 'nhiều', 'như', 'nhưng', 'những', 'nơi', 'nữa', 'phải', 'qua', 'ra', 'rằng', 'rằng', 'rất', 'rất', 'rồi', 'sau', 'sẽ', 'so', 'sự', 'tại', 'theo', 'thì', 'trên', 'trước', 'từ', 'từng', 'và', 'vẫn', 'vào', 'vậy', 'vì', 'việc', 'với', 'vừa', '!', '\"', '#', '$', '%', '&', \"'\", '(', ')', '*', '+', ',', '-', '.', '/', ':', ';', '<', '=', '>', '?', '@', '[', '\\\\', ']', '^', '_', '`', '{', '|', '}', '~']"
      ],
      "metadata": {
        "id": "59ij9RUOFbWb"
      },
      "execution_count": null,
      "outputs": []
    },
    {
      "cell_type": "code",
      "source": [
        "def remove_stopwords(line):\n",
        "    words = []\n",
        "    for word in line.strip().split():\n",
        "        if word not in stop_word:\n",
        "            words.append(word)\n",
        "    return ' '.join(words)\n",
        "    return line"
      ],
      "metadata": {
        "id": "DZHTHg5Jf79A"
      },
      "execution_count": null,
      "outputs": []
    },
    {
      "cell_type": "code",
      "source": [
        "line = \"Môn tiếng anh là môn học rất bổ ích\"\n",
        "remove_stopwords(line)"
      ],
      "metadata": {
        "colab": {
          "base_uri": "https://localhost:8080/",
          "height": 35
        },
        "id": "US2qOPxrFYpV",
        "outputId": "9fc080ec-155c-488b-dd94-cc5bef17aa63"
      },
      "execution_count": null,
      "outputs": [
        {
          "output_type": "execute_result",
          "data": {
            "application/vnd.google.colaboratory.intrinsic+json": {
              "type": "string"
            },
            "text/plain": [
              "'Môn tiếng anh môn học bổ ích'"
            ]
          },
          "metadata": {},
          "execution_count": 30
        }
      ]
    },
    {
      "cell_type": "code",
      "source": [
        "document = []\n",
        "with open('/content/drive/MyDrive/DOANII /train_sents.txt','r') as f:\n",
        "  data = f.readlines()\n",
        "for d in data:\n",
        "    document.append(d)\n",
        "with open('/content/drive/MyDrive/DOANII /test_sents.txt','r') as f:\n",
        "  data = f.readlines()\n",
        "for d in data:\n",
        "    document.append(d)\n",
        "len(document)"
      ],
      "metadata": {
        "colab": {
          "base_uri": "https://localhost:8080/"
        },
        "id": "K9Dm0wgUf-SL",
        "outputId": "eea9d5dc-e8e8-4c6a-9308-e60da3d12de6"
      },
      "execution_count": null,
      "outputs": [
        {
          "output_type": "execute_result",
          "data": {
            "text/plain": [
              "14592"
            ]
          },
          "metadata": {},
          "execution_count": 6
        }
      ]
    },
    {
      "cell_type": "code",
      "source": [
        "labels_data = []\n",
        "with open('/content/drive/MyDrive/DOANII /train_sentiments.txt','r') as f:\n",
        "  label_train = f.readlines()\n",
        "for line in label_train:\n",
        "  labels_data.append(line.strip())\n",
        "with open('/content/drive/MyDrive/DOANII /test_sentiments.txt','r') as f:\n",
        "  label_train = f.readlines()\n",
        "for line in label_train:\n",
        "  labels_data.append(line.strip())\n",
        "len(labels_data)"
      ],
      "metadata": {
        "colab": {
          "base_uri": "https://localhost:8080/"
        },
        "id": "eQWrG02tgIr-",
        "outputId": "4cf01bb7-3630-4ad5-b13d-088a242a7640"
      },
      "execution_count": null,
      "outputs": [
        {
          "output_type": "execute_result",
          "data": {
            "text/plain": [
              "14592"
            ]
          },
          "metadata": {},
          "execution_count": 7
        }
      ]
    },
    {
      "cell_type": "code",
      "source": [
        "sentences = []\n",
        "for d in document:\n",
        "  d = ViTokenizer.tokenize(d)\n",
        "  d = remove_stopwords(d)\n",
        "  sentences.append(clean_document(d))\n",
        "#sentences\n"
      ],
      "metadata": {
        "id": "kGeJzKANgOk_"
      },
      "execution_count": null,
      "outputs": []
    },
    {
      "cell_type": "code",
      "source": [
        "labels = []\n",
        "for i in range(0,len(labels_data)):\n",
        "  if labels_data[i] == '0':\n",
        "     labels.append((1,0,0))\n",
        "  elif labels_data[i] == '1':\n",
        "     labels.append((0,1,0))\n",
        "  else:\n",
        "     labels.append((0,0,1))\n",
        "labels = pd.get_dummies(labels)\n",
        "labels"
      ],
      "metadata": {
        "colab": {
          "base_uri": "https://localhost:8080/",
          "height": 424
        },
        "id": "Ais0mV1ngQag",
        "outputId": "1859b698-cc4e-4ba1-99bc-53e8f3cc30e3"
      },
      "execution_count": null,
      "outputs": [
        {
          "output_type": "execute_result",
          "data": {
            "text/html": [
              "\n",
              "  <div id=\"df-3e9f9bbb-1765-4f37-8133-7ceb32e69474\">\n",
              "    <div class=\"colab-df-container\">\n",
              "      <div>\n",
              "<style scoped>\n",
              "    .dataframe tbody tr th:only-of-type {\n",
              "        vertical-align: middle;\n",
              "    }\n",
              "\n",
              "    .dataframe tbody tr th {\n",
              "        vertical-align: top;\n",
              "    }\n",
              "\n",
              "    .dataframe thead th {\n",
              "        text-align: right;\n",
              "    }\n",
              "</style>\n",
              "<table border=\"1\" class=\"dataframe\">\n",
              "  <thead>\n",
              "    <tr style=\"text-align: right;\">\n",
              "      <th></th>\n",
              "      <th>(0, 0, 1)</th>\n",
              "      <th>(0, 1, 0)</th>\n",
              "      <th>(1, 0, 0)</th>\n",
              "    </tr>\n",
              "  </thead>\n",
              "  <tbody>\n",
              "    <tr>\n",
              "      <th>0</th>\n",
              "      <td>1</td>\n",
              "      <td>0</td>\n",
              "      <td>0</td>\n",
              "    </tr>\n",
              "    <tr>\n",
              "      <th>1</th>\n",
              "      <td>1</td>\n",
              "      <td>0</td>\n",
              "      <td>0</td>\n",
              "    </tr>\n",
              "    <tr>\n",
              "      <th>2</th>\n",
              "      <td>0</td>\n",
              "      <td>0</td>\n",
              "      <td>1</td>\n",
              "    </tr>\n",
              "    <tr>\n",
              "      <th>3</th>\n",
              "      <td>0</td>\n",
              "      <td>0</td>\n",
              "      <td>1</td>\n",
              "    </tr>\n",
              "    <tr>\n",
              "      <th>4</th>\n",
              "      <td>1</td>\n",
              "      <td>0</td>\n",
              "      <td>0</td>\n",
              "    </tr>\n",
              "    <tr>\n",
              "      <th>...</th>\n",
              "      <td>...</td>\n",
              "      <td>...</td>\n",
              "      <td>...</td>\n",
              "    </tr>\n",
              "    <tr>\n",
              "      <th>14587</th>\n",
              "      <td>0</td>\n",
              "      <td>0</td>\n",
              "      <td>1</td>\n",
              "    </tr>\n",
              "    <tr>\n",
              "      <th>14588</th>\n",
              "      <td>1</td>\n",
              "      <td>0</td>\n",
              "      <td>0</td>\n",
              "    </tr>\n",
              "    <tr>\n",
              "      <th>14589</th>\n",
              "      <td>1</td>\n",
              "      <td>0</td>\n",
              "      <td>0</td>\n",
              "    </tr>\n",
              "    <tr>\n",
              "      <th>14590</th>\n",
              "      <td>0</td>\n",
              "      <td>0</td>\n",
              "      <td>1</td>\n",
              "    </tr>\n",
              "    <tr>\n",
              "      <th>14591</th>\n",
              "      <td>0</td>\n",
              "      <td>1</td>\n",
              "      <td>0</td>\n",
              "    </tr>\n",
              "  </tbody>\n",
              "</table>\n",
              "<p>14592 rows × 3 columns</p>\n",
              "</div>\n",
              "      <button class=\"colab-df-convert\" onclick=\"convertToInteractive('df-3e9f9bbb-1765-4f37-8133-7ceb32e69474')\"\n",
              "              title=\"Convert this dataframe to an interactive table.\"\n",
              "              style=\"display:none;\">\n",
              "        \n",
              "  <svg xmlns=\"http://www.w3.org/2000/svg\" height=\"24px\"viewBox=\"0 0 24 24\"\n",
              "       width=\"24px\">\n",
              "    <path d=\"M0 0h24v24H0V0z\" fill=\"none\"/>\n",
              "    <path d=\"M18.56 5.44l.94 2.06.94-2.06 2.06-.94-2.06-.94-.94-2.06-.94 2.06-2.06.94zm-11 1L8.5 8.5l.94-2.06 2.06-.94-2.06-.94L8.5 2.5l-.94 2.06-2.06.94zm10 10l.94 2.06.94-2.06 2.06-.94-2.06-.94-.94-2.06-.94 2.06-2.06.94z\"/><path d=\"M17.41 7.96l-1.37-1.37c-.4-.4-.92-.59-1.43-.59-.52 0-1.04.2-1.43.59L10.3 9.45l-7.72 7.72c-.78.78-.78 2.05 0 2.83L4 21.41c.39.39.9.59 1.41.59.51 0 1.02-.2 1.41-.59l7.78-7.78 2.81-2.81c.8-.78.8-2.07 0-2.86zM5.41 20L4 18.59l7.72-7.72 1.47 1.35L5.41 20z\"/>\n",
              "  </svg>\n",
              "      </button>\n",
              "      \n",
              "  <style>\n",
              "    .colab-df-container {\n",
              "      display:flex;\n",
              "      flex-wrap:wrap;\n",
              "      gap: 12px;\n",
              "    }\n",
              "\n",
              "    .colab-df-convert {\n",
              "      background-color: #E8F0FE;\n",
              "      border: none;\n",
              "      border-radius: 50%;\n",
              "      cursor: pointer;\n",
              "      display: none;\n",
              "      fill: #1967D2;\n",
              "      height: 32px;\n",
              "      padding: 0 0 0 0;\n",
              "      width: 32px;\n",
              "    }\n",
              "\n",
              "    .colab-df-convert:hover {\n",
              "      background-color: #E2EBFA;\n",
              "      box-shadow: 0px 1px 2px rgba(60, 64, 67, 0.3), 0px 1px 3px 1px rgba(60, 64, 67, 0.15);\n",
              "      fill: #174EA6;\n",
              "    }\n",
              "\n",
              "    [theme=dark] .colab-df-convert {\n",
              "      background-color: #3B4455;\n",
              "      fill: #D2E3FC;\n",
              "    }\n",
              "\n",
              "    [theme=dark] .colab-df-convert:hover {\n",
              "      background-color: #434B5C;\n",
              "      box-shadow: 0px 1px 3px 1px rgba(0, 0, 0, 0.15);\n",
              "      filter: drop-shadow(0px 1px 2px rgba(0, 0, 0, 0.3));\n",
              "      fill: #FFFFFF;\n",
              "    }\n",
              "  </style>\n",
              "\n",
              "      <script>\n",
              "        const buttonEl =\n",
              "          document.querySelector('#df-3e9f9bbb-1765-4f37-8133-7ceb32e69474 button.colab-df-convert');\n",
              "        buttonEl.style.display =\n",
              "          google.colab.kernel.accessAllowed ? 'block' : 'none';\n",
              "\n",
              "        async function convertToInteractive(key) {\n",
              "          const element = document.querySelector('#df-3e9f9bbb-1765-4f37-8133-7ceb32e69474');\n",
              "          const dataTable =\n",
              "            await google.colab.kernel.invokeFunction('convertToInteractive',\n",
              "                                                     [key], {});\n",
              "          if (!dataTable) return;\n",
              "\n",
              "          const docLinkHtml = 'Like what you see? Visit the ' +\n",
              "            '<a target=\"_blank\" href=https://colab.research.google.com/notebooks/data_table.ipynb>data table notebook</a>'\n",
              "            + ' to learn more about interactive tables.';\n",
              "          element.innerHTML = '';\n",
              "          dataTable['output_type'] = 'display_data';\n",
              "          await google.colab.output.renderOutput(dataTable, element);\n",
              "          const docLink = document.createElement('div');\n",
              "          docLink.innerHTML = docLinkHtml;\n",
              "          element.appendChild(docLink);\n",
              "        }\n",
              "      </script>\n",
              "    </div>\n",
              "  </div>\n",
              "  "
            ],
            "text/plain": [
              "       (0, 0, 1)  (0, 1, 0)  (1, 0, 0)\n",
              "0              1          0          0\n",
              "1              1          0          0\n",
              "2              0          0          1\n",
              "3              0          0          1\n",
              "4              1          0          0\n",
              "...          ...        ...        ...\n",
              "14587          0          0          1\n",
              "14588          1          0          0\n",
              "14589          1          0          0\n",
              "14590          0          0          1\n",
              "14591          0          1          0\n",
              "\n",
              "[14592 rows x 3 columns]"
            ]
          },
          "metadata": {},
          "execution_count": 9
        }
      ]
    },
    {
      "cell_type": "code",
      "source": [
        "x_train, x_test, y_train, y_test = train_test_split(sentences, labels, test_size=0.3, shuffle=True)\n",
        "x_train = np.array(x_train)\n",
        "y_train = np.array(y_train)\n",
        "x_test = np.array(x_test)\n",
        "y_test = np.array(y_test)"
      ],
      "metadata": {
        "colab": {
          "base_uri": "https://localhost:8080/"
        },
        "id": "QbBoyBOghmNb",
        "outputId": "b79bb138-c315-4113-ac84-07c8c3e509cf"
      },
      "execution_count": null,
      "outputs": [
        {
          "output_type": "stream",
          "name": "stderr",
          "text": [
            "/usr/local/lib/python3.7/dist-packages/ipykernel_launcher.py:2: VisibleDeprecationWarning: Creating an ndarray from ragged nested sequences (which is a list-or-tuple of lists-or-tuples-or ndarrays with different lengths or shapes) is deprecated. If you meant to do this, you must specify 'dtype=object' when creating the ndarray\n",
            "  \n",
            "/usr/local/lib/python3.7/dist-packages/ipykernel_launcher.py:4: VisibleDeprecationWarning: Creating an ndarray from ragged nested sequences (which is a list-or-tuple of lists-or-tuples-or ndarrays with different lengths or shapes) is deprecated. If you meant to do this, you must specify 'dtype=object' when creating the ndarray\n",
            "  after removing the cwd from sys.path.\n"
          ]
        }
      ]
    },
    {
      "cell_type": "code",
      "source": [
        "word_model = gensim.models.Word2Vec(x_train, size=300, window = 10, min_count=1, iter=10)"
      ],
      "metadata": {
        "id": "Re-raEy8q6DD"
      },
      "execution_count": null,
      "outputs": []
    },
    {
      "cell_type": "code",
      "source": [
        "word_model.wv.save_word2vec_format('/content/drive/MyDrive/DOANII /vnw2v.txt', fvocab=None, binary=False)\n"
      ],
      "metadata": {
        "id": "W8fAm7Pzq_bg"
      },
      "execution_count": null,
      "outputs": []
    },
    {
      "cell_type": "code",
      "source": [
        "from google.colab import drive\n",
        "drive.mount('/content/drive')"
      ],
      "metadata": {
        "colab": {
          "base_uri": "https://localhost:8080/"
        },
        "id": "rPwL2NZih0JU",
        "outputId": "663ca6d6-dfcf-4dc7-8da9-82a213037433"
      },
      "execution_count": null,
      "outputs": [
        {
          "output_type": "stream",
          "name": "stdout",
          "text": [
            "Drive already mounted at /content/drive; to attempt to forcibly remount, call drive.mount(\"/content/drive\", force_remount=True).\n"
          ]
        }
      ]
    },
    {
      "cell_type": "code",
      "source": [
        "tokenizer = Tokenizer(filters='!\"#$%&()*+,-./:;<=>?@[\\]^`{|}~ ')\n",
        "tokenizer.fit_on_texts(x_train)\n",
        "tokenizer.word_index\n"
      ],
      "metadata": {
        "id": "G4DyXFqigT9h"
      },
      "execution_count": null,
      "outputs": []
    },
    {
      "cell_type": "code",
      "source": [
        "padded_x_train = tokenizer.texts_to_sequences(x_train)\n",
        "padded_x_train = pad_sequences(padded_x_train, maxlen = 140)\n",
        "padded_x_train.shape"
      ],
      "metadata": {
        "colab": {
          "base_uri": "https://localhost:8080/"
        },
        "id": "tYdEZU_ziGuO",
        "outputId": "62d8aaef-d9cb-4ebf-a748-4505abbf4c85"
      },
      "execution_count": null,
      "outputs": [
        {
          "output_type": "execute_result",
          "data": {
            "text/plain": [
              "(10214, 140)"
            ]
          },
          "metadata": {},
          "execution_count": 15
        }
      ]
    },
    {
      "cell_type": "code",
      "source": [
        ""
      ],
      "metadata": {
        "id": "L0fCekO0iLek"
      },
      "execution_count": null,
      "outputs": []
    },
    {
      "cell_type": "code",
      "source": [
        ""
      ],
      "metadata": {
        "id": "ooCLRPpQl5bk"
      },
      "execution_count": null,
      "outputs": []
    },
    {
      "cell_type": "code",
      "source": [
        "padded_x_test = tokenizer.texts_to_sequences(x_test)\n",
        "padded_x_test = pad_sequences(padded_x_test, maxlen = 140)\n",
        "padded_x_test.shape"
      ],
      "metadata": {
        "colab": {
          "base_uri": "https://localhost:8080/"
        },
        "id": "BlwaDuo6l7Ht",
        "outputId": "72c101a2-34fe-4cf9-fc89-4f6ca9933d00"
      },
      "execution_count": null,
      "outputs": [
        {
          "output_type": "execute_result",
          "data": {
            "text/plain": [
              "(4378, 140)"
            ]
          },
          "metadata": {},
          "execution_count": 16
        }
      ]
    },
    {
      "cell_type": "code",
      "source": [
        "padded_x_train.shape[1]"
      ],
      "metadata": {
        "colab": {
          "base_uri": "https://localhost:8080/"
        },
        "id": "Y4Ab83mQvV0u",
        "outputId": "6ef8c348-3eec-4641-eba8-d93a9a737e0c"
      },
      "execution_count": null,
      "outputs": [
        {
          "output_type": "execute_result",
          "data": {
            "text/plain": [
              "140"
            ]
          },
          "metadata": {},
          "execution_count": 17
        }
      ]
    },
    {
      "cell_type": "code",
      "source": [
        "len(word_model.wv.vocab)"
      ],
      "metadata": {
        "colab": {
          "base_uri": "https://localhost:8080/"
        },
        "id": "PNxIhJWUvdXD",
        "outputId": "36153750-61fc-47a8-b571-d95f61840708"
      },
      "execution_count": null,
      "outputs": [
        {
          "output_type": "execute_result",
          "data": {
            "text/plain": [
              "3179"
            ]
          },
          "metadata": {},
          "execution_count": 18
        }
      ]
    },
    {
      "cell_type": "code",
      "source": [
        " enumerate(word_model.wv.vectors)"
      ],
      "metadata": {
        "colab": {
          "base_uri": "https://localhost:8080/"
        },
        "id": "dcc28j-Qvtt2",
        "outputId": "eb57ce09-d133-4950-d249-c734161310f2"
      },
      "execution_count": null,
      "outputs": [
        {
          "output_type": "execute_result",
          "data": {
            "text/plain": [
              "<enumerate at 0x7fb77a006730>"
            ]
          },
          "metadata": {},
          "execution_count": 19
        }
      ]
    },
    {
      "cell_type": "code",
      "source": [
        "padded_x_train = np.array(padded_x_train)\n",
        "y_train = np.array(y_train)\n",
        "padded_x_test = np.array(padded_x_test)\n",
        "y_test = np.array(y_test)"
      ],
      "metadata": {
        "id": "jVSEEKAin_bv"
      },
      "execution_count": null,
      "outputs": []
    },
    {
      "cell_type": "code",
      "source": [
        "callback = tf.keras.callbacks.EarlyStopping(monitor='loss', patience=3)\n",
        "\n",
        "embedding_matrix = np.zeros((len(word_model.wv.vocab) + 1, 300))\n",
        "for i, vec in enumerate(word_model.wv.vectors):\n",
        "  embedding_matrix[i] = vec\n",
        "model = Sequential()\n",
        "model.add(Embedding(len(word_model.wv.vocab) +1,300,input_length=padded_x_train.shape[1],weights=[embedding_matrix],trainable=False))\n",
        "model.add(LSTM(300,return_sequences=False))\n",
        "model.add(Flatten())\n",
        "model.add(Dense(3,activation=\"softmax\"))\n",
        "model.summary()\n",
        "model.compile(optimizer=\"adam\",loss=\"categorical_crossentropy\",metrics=['acc'])\n",
        "batch = 64\n",
        "epochs = 100\n",
        "history = model.fit(padded_x_train,y_train,batch,epochs,steps_per_epoch=50, validation_data=(padded_x_test, y_test),callbacks = [callback])"
      ],
      "metadata": {
        "colab": {
          "base_uri": "https://localhost:8080/"
        },
        "id": "KOIUy7eLm6b2",
        "outputId": "716d9df4-98df-41a9-edd2-65eed5c93898"
      },
      "execution_count": null,
      "outputs": [
        {
          "output_type": "stream",
          "name": "stdout",
          "text": [
            "Model: \"sequential_3\"\n",
            "_________________________________________________________________\n",
            " Layer (type)                Output Shape              Param #   \n",
            "=================================================================\n",
            " embedding_3 (Embedding)     (None, 140, 300)          954000    \n",
            "                                                                 \n",
            " lstm_3 (LSTM)               (None, 300)               721200    \n",
            "                                                                 \n",
            " flatten_1 (Flatten)         (None, 300)               0         \n",
            "                                                                 \n",
            " dense_2 (Dense)             (None, 3)                 903       \n",
            "                                                                 \n",
            "=================================================================\n",
            "Total params: 1,676,103\n",
            "Trainable params: 722,103\n",
            "Non-trainable params: 954,000\n",
            "_________________________________________________________________\n",
            "Epoch 1/100\n",
            "50/50 [==============================] - 80s 1s/step - loss: 0.8021 - acc: 0.6062 - val_loss: 0.7492 - val_acc: 0.6339\n",
            "Epoch 2/100\n",
            "50/50 [==============================] - 72s 1s/step - loss: 0.7502 - acc: 0.6463 - val_loss: 0.7434 - val_acc: 0.6147\n",
            "Epoch 3/100\n",
            "50/50 [==============================] - 71s 1s/step - loss: 0.7475 - acc: 0.6369 - val_loss: 0.7209 - val_acc: 0.6734\n",
            "Epoch 4/100\n",
            "50/50 [==============================] - 71s 1s/step - loss: 0.7086 - acc: 0.6824 - val_loss: 0.6882 - val_acc: 0.6948\n",
            "Epoch 5/100\n",
            "50/50 [==============================] - 73s 1s/step - loss: 0.6823 - acc: 0.6812 - val_loss: 0.6464 - val_acc: 0.7115\n",
            "Epoch 6/100\n",
            "50/50 [==============================] - 71s 1s/step - loss: 0.6301 - acc: 0.7228 - val_loss: 0.6401 - val_acc: 0.7149\n",
            "Epoch 7/100\n",
            "50/50 [==============================] - 70s 1s/step - loss: 0.6083 - acc: 0.7379 - val_loss: 0.6030 - val_acc: 0.7378\n",
            "Epoch 8/100\n",
            "50/50 [==============================] - 71s 1s/step - loss: 0.6269 - acc: 0.7266 - val_loss: 0.5894 - val_acc: 0.7487\n",
            "Epoch 9/100\n",
            "50/50 [==============================] - 70s 1s/step - loss: 0.5806 - acc: 0.7519 - val_loss: 0.5817 - val_acc: 0.7615\n",
            "Epoch 10/100\n",
            "50/50 [==============================] - 72s 1s/step - loss: 0.5869 - acc: 0.7498 - val_loss: 0.5652 - val_acc: 0.7652\n",
            "Epoch 11/100\n",
            "50/50 [==============================] - 71s 1s/step - loss: 0.5639 - acc: 0.7691 - val_loss: 0.5740 - val_acc: 0.7668\n",
            "Epoch 12/100\n",
            "50/50 [==============================] - 70s 1s/step - loss: 0.5697 - acc: 0.7484 - val_loss: 0.5568 - val_acc: 0.7620\n",
            "Epoch 13/100\n",
            "50/50 [==============================] - 70s 1s/step - loss: 0.5704 - acc: 0.7546 - val_loss: 0.5492 - val_acc: 0.7707\n",
            "Epoch 14/100\n",
            "50/50 [==============================] - 71s 1s/step - loss: 0.5485 - acc: 0.7631 - val_loss: 0.5543 - val_acc: 0.7759\n",
            "Epoch 15/100\n",
            "50/50 [==============================] - 70s 1s/step - loss: 0.6013 - acc: 0.7653 - val_loss: 0.9276 - val_acc: 0.5085\n",
            "Epoch 16/100\n",
            "50/50 [==============================] - 70s 1s/step - loss: 0.7120 - acc: 0.6834 - val_loss: 0.5899 - val_acc: 0.7547\n",
            "Epoch 17/100\n",
            "50/50 [==============================] - 70s 1s/step - loss: 0.5789 - acc: 0.7616 - val_loss: 0.5573 - val_acc: 0.7693\n",
            "Epoch 18/100\n",
            "50/50 [==============================] - 69s 1s/step - loss: 0.5619 - acc: 0.7631 - val_loss: 0.5561 - val_acc: 0.7693\n",
            "Epoch 19/100\n",
            "50/50 [==============================] - 71s 1s/step - loss: 0.5314 - acc: 0.7841 - val_loss: 0.5537 - val_acc: 0.7661\n",
            "Epoch 20/100\n",
            "50/50 [==============================] - 71s 1s/step - loss: 0.5254 - acc: 0.7836 - val_loss: 0.5396 - val_acc: 0.7773\n",
            "Epoch 21/100\n",
            "50/50 [==============================] - 70s 1s/step - loss: 0.5258 - acc: 0.7809 - val_loss: 0.5416 - val_acc: 0.7686\n",
            "Epoch 22/100\n",
            "50/50 [==============================] - 70s 1s/step - loss: 0.4971 - acc: 0.7941 - val_loss: 0.5241 - val_acc: 0.7908\n",
            "Epoch 23/100\n",
            "50/50 [==============================] - 72s 1s/step - loss: 0.5144 - acc: 0.7795 - val_loss: 0.5421 - val_acc: 0.7805\n",
            "Epoch 24/100\n",
            "50/50 [==============================] - 70s 1s/step - loss: 0.4945 - acc: 0.7944 - val_loss: 0.5465 - val_acc: 0.7622\n",
            "Epoch 25/100\n",
            "50/50 [==============================] - 71s 1s/step - loss: 0.4959 - acc: 0.7903 - val_loss: 0.5202 - val_acc: 0.7835\n",
            "Epoch 26/100\n",
            "50/50 [==============================] - 69s 1s/step - loss: 0.4917 - acc: 0.7999 - val_loss: 0.5296 - val_acc: 0.7846\n",
            "Epoch 27/100\n",
            "50/50 [==============================] - 71s 1s/step - loss: 0.4942 - acc: 0.7978 - val_loss: 0.5188 - val_acc: 0.7862\n",
            "Epoch 28/100\n",
            "50/50 [==============================] - 71s 1s/step - loss: 0.4752 - acc: 0.8006 - val_loss: 0.5102 - val_acc: 0.7894\n",
            "Epoch 29/100\n",
            "50/50 [==============================] - 73s 1s/step - loss: 0.4676 - acc: 0.8047 - val_loss: 0.5153 - val_acc: 0.7928\n",
            "Epoch 30/100\n",
            "50/50 [==============================] - 70s 1s/step - loss: 0.4726 - acc: 0.8075 - val_loss: 0.5284 - val_acc: 0.7825\n",
            "Epoch 31/100\n",
            "50/50 [==============================] - 70s 1s/step - loss: 0.4677 - acc: 0.8056 - val_loss: 0.5203 - val_acc: 0.7944\n",
            "Epoch 32/100\n",
            "50/50 [==============================] - 71s 1s/step - loss: 0.4625 - acc: 0.8141 - val_loss: 0.5182 - val_acc: 0.7825\n",
            "Epoch 33/100\n",
            "50/50 [==============================] - 69s 1s/step - loss: 0.4609 - acc: 0.8119 - val_loss: 0.5337 - val_acc: 0.7796\n",
            "Epoch 34/100\n",
            "50/50 [==============================] - 70s 1s/step - loss: 0.4559 - acc: 0.8169 - val_loss: 0.5237 - val_acc: 0.7899\n",
            "Epoch 35/100\n",
            "50/50 [==============================] - 68s 1s/step - loss: 0.4615 - acc: 0.8122 - val_loss: 0.5177 - val_acc: 0.7887\n",
            "Epoch 36/100\n",
            "50/50 [==============================] - 69s 1s/step - loss: 0.4488 - acc: 0.8173 - val_loss: 0.5133 - val_acc: 0.7990\n",
            "Epoch 37/100\n",
            "50/50 [==============================] - 71s 1s/step - loss: 0.4315 - acc: 0.8288 - val_loss: 0.5176 - val_acc: 0.7917\n",
            "Epoch 38/100\n",
            "50/50 [==============================] - 70s 1s/step - loss: 0.4611 - acc: 0.8131 - val_loss: 0.5299 - val_acc: 0.7871\n",
            "Epoch 39/100\n",
            "50/50 [==============================] - 69s 1s/step - loss: 0.4147 - acc: 0.8308 - val_loss: 0.5020 - val_acc: 0.7937\n",
            "Epoch 40/100\n",
            "50/50 [==============================] - 69s 1s/step - loss: 0.4257 - acc: 0.8325 - val_loss: 0.5238 - val_acc: 0.7887\n",
            "Epoch 41/100\n",
            "50/50 [==============================] - 71s 1s/step - loss: 0.4205 - acc: 0.8228 - val_loss: 0.5207 - val_acc: 0.7839\n",
            "Epoch 42/100\n",
            "50/50 [==============================] - 70s 1s/step - loss: 0.4173 - acc: 0.8396 - val_loss: 0.5119 - val_acc: 0.7960\n",
            "Epoch 43/100\n",
            "50/50 [==============================] - 70s 1s/step - loss: 0.3840 - acc: 0.8547 - val_loss: 0.5186 - val_acc: 0.7921\n",
            "Epoch 44/100\n",
            "50/50 [==============================] - 68s 1s/step - loss: 0.4120 - acc: 0.8328 - val_loss: 0.5099 - val_acc: 0.7944\n",
            "Epoch 45/100\n",
            "50/50 [==============================] - 68s 1s/step - loss: 0.4087 - acc: 0.8362 - val_loss: 0.5142 - val_acc: 0.7910\n",
            "Epoch 46/100\n",
            "50/50 [==============================] - 69s 1s/step - loss: 0.3900 - acc: 0.8438 - val_loss: 0.5307 - val_acc: 0.7841\n",
            "Epoch 47/100\n",
            "50/50 [==============================] - 69s 1s/step - loss: 0.3982 - acc: 0.8400 - val_loss: 0.5200 - val_acc: 0.7915\n",
            "Epoch 48/100\n",
            "50/50 [==============================] - 69s 1s/step - loss: 0.3791 - acc: 0.8532 - val_loss: 0.5189 - val_acc: 0.7988\n",
            "Epoch 49/100\n",
            "50/50 [==============================] - 69s 1s/step - loss: 0.3592 - acc: 0.8544 - val_loss: 0.5316 - val_acc: 0.7871\n",
            "Epoch 50/100\n",
            "50/50 [==============================] - 69s 1s/step - loss: 0.3613 - acc: 0.8553 - val_loss: 0.5311 - val_acc: 0.7828\n",
            "Epoch 51/100\n",
            "50/50 [==============================] - 69s 1s/step - loss: 0.3610 - acc: 0.8606 - val_loss: 0.5322 - val_acc: 0.7892\n",
            "Epoch 52/100\n",
            "50/50 [==============================] - 67s 1s/step - loss: 0.3397 - acc: 0.8629 - val_loss: 0.5590 - val_acc: 0.7862\n",
            "Epoch 53/100\n",
            "50/50 [==============================] - 70s 1s/step - loss: 0.3390 - acc: 0.8694 - val_loss: 0.5518 - val_acc: 0.7855\n",
            "Epoch 54/100\n",
            "50/50 [==============================] - 70s 1s/step - loss: 0.3466 - acc: 0.8647 - val_loss: 0.5530 - val_acc: 0.7787\n",
            "Epoch 55/100\n",
            "50/50 [==============================] - 68s 1s/step - loss: 0.3225 - acc: 0.8730 - val_loss: 0.5548 - val_acc: 0.7876\n",
            "Epoch 56/100\n",
            "50/50 [==============================] - 68s 1s/step - loss: 0.3191 - acc: 0.8734 - val_loss: 0.5508 - val_acc: 0.7908\n",
            "Epoch 57/100\n",
            "50/50 [==============================] - 68s 1s/step - loss: 0.3033 - acc: 0.8828 - val_loss: 0.5747 - val_acc: 0.7828\n",
            "Epoch 58/100\n",
            "50/50 [==============================] - 68s 1s/step - loss: 0.2954 - acc: 0.8856 - val_loss: 0.5785 - val_acc: 0.7896\n",
            "Epoch 59/100\n",
            "50/50 [==============================] - 70s 1s/step - loss: 0.2760 - acc: 0.8956 - val_loss: 0.5798 - val_acc: 0.7773\n",
            "Epoch 60/100\n",
            "50/50 [==============================] - 68s 1s/step - loss: 0.2872 - acc: 0.8875 - val_loss: 0.5867 - val_acc: 0.7782\n",
            "Epoch 61/100\n",
            "50/50 [==============================] - 67s 1s/step - loss: 0.2787 - acc: 0.8938 - val_loss: 0.5817 - val_acc: 0.7912\n",
            "Epoch 62/100\n",
            "50/50 [==============================] - 69s 1s/step - loss: 0.2513 - acc: 0.9103 - val_loss: 0.6035 - val_acc: 0.7844\n",
            "Epoch 63/100\n",
            "50/50 [==============================] - 71s 1s/step - loss: 0.2403 - acc: 0.9097 - val_loss: 0.6116 - val_acc: 0.7828\n",
            "Epoch 64/100\n",
            "50/50 [==============================] - 70s 1s/step - loss: 0.2711 - acc: 0.8894 - val_loss: 0.6051 - val_acc: 0.7846\n",
            "Epoch 65/100\n",
            "50/50 [==============================] - 69s 1s/step - loss: 0.2146 - acc: 0.9225 - val_loss: 0.6315 - val_acc: 0.7807\n",
            "Epoch 66/100\n",
            "50/50 [==============================] - 69s 1s/step - loss: 0.2106 - acc: 0.9219 - val_loss: 0.6274 - val_acc: 0.7805\n",
            "Epoch 67/100\n",
            "50/50 [==============================] - 69s 1s/step - loss: 0.2359 - acc: 0.9131 - val_loss: 0.6365 - val_acc: 0.7718\n",
            "Epoch 68/100\n",
            "50/50 [==============================] - 70s 1s/step - loss: 0.1932 - acc: 0.9304 - val_loss: 0.6654 - val_acc: 0.7810\n",
            "Epoch 69/100\n",
            "50/50 [==============================] - 71s 1s/step - loss: 0.1921 - acc: 0.9297 - val_loss: 0.6878 - val_acc: 0.7857\n",
            "Epoch 70/100\n",
            "50/50 [==============================] - 69s 1s/step - loss: 0.1976 - acc: 0.9237 - val_loss: 0.6718 - val_acc: 0.7869\n",
            "Epoch 71/100\n",
            "50/50 [==============================] - 68s 1s/step - loss: 0.1620 - acc: 0.9436 - val_loss: 0.6772 - val_acc: 0.7864\n",
            "Epoch 72/100\n",
            "50/50 [==============================] - 68s 1s/step - loss: 0.1504 - acc: 0.9488 - val_loss: 0.7529 - val_acc: 0.7823\n",
            "Epoch 73/100\n",
            "50/50 [==============================] - 70s 1s/step - loss: 0.1661 - acc: 0.9353 - val_loss: 0.6988 - val_acc: 0.7841\n",
            "Epoch 74/100\n",
            "50/50 [==============================] - 69s 1s/step - loss: 0.1532 - acc: 0.9449 - val_loss: 0.7240 - val_acc: 0.7855\n",
            "Epoch 75/100\n",
            "50/50 [==============================] - 70s 1s/step - loss: 0.1411 - acc: 0.9503 - val_loss: 0.7530 - val_acc: 0.7787\n",
            "Epoch 76/100\n",
            "50/50 [==============================] - 70s 1s/step - loss: 0.1450 - acc: 0.9469 - val_loss: 0.7761 - val_acc: 0.7798\n",
            "Epoch 77/100\n",
            "50/50 [==============================] - 68s 1s/step - loss: 0.1451 - acc: 0.9490 - val_loss: 0.7753 - val_acc: 0.7864\n",
            "Epoch 78/100\n",
            "50/50 [==============================] - 69s 1s/step - loss: 0.1268 - acc: 0.9534 - val_loss: 0.7535 - val_acc: 0.7832\n",
            "Epoch 79/100\n",
            "50/50 [==============================] - 68s 1s/step - loss: 0.1490 - acc: 0.9444 - val_loss: 0.7797 - val_acc: 0.7739\n",
            "Epoch 80/100\n",
            "50/50 [==============================] - 68s 1s/step - loss: 0.1276 - acc: 0.9584 - val_loss: 0.7878 - val_acc: 0.7755\n",
            "Epoch 81/100\n",
            "50/50 [==============================] - 69s 1s/step - loss: 0.1079 - acc: 0.9619 - val_loss: 0.8121 - val_acc: 0.7739\n",
            "Epoch 82/100\n",
            "50/50 [==============================] - 69s 1s/step - loss: 0.1217 - acc: 0.9563 - val_loss: 0.7934 - val_acc: 0.7798\n",
            "Epoch 83/100\n",
            "50/50 [==============================] - 68s 1s/step - loss: 0.1154 - acc: 0.9597 - val_loss: 0.8149 - val_acc: 0.7743\n",
            "Epoch 84/100\n",
            "50/50 [==============================] - 68s 1s/step - loss: 0.1054 - acc: 0.9653 - val_loss: 0.8468 - val_acc: 0.7750\n",
            "Epoch 85/100\n",
            "50/50 [==============================] - 69s 1s/step - loss: 0.0952 - acc: 0.9647 - val_loss: 0.8875 - val_acc: 0.7787\n",
            "Epoch 86/100\n",
            "50/50 [==============================] - 69s 1s/step - loss: 0.1049 - acc: 0.9634 - val_loss: 0.8544 - val_acc: 0.7805\n",
            "Epoch 87/100\n",
            "50/50 [==============================] - 67s 1s/step - loss: 0.0918 - acc: 0.9688 - val_loss: 0.8852 - val_acc: 0.7766\n",
            "Epoch 88/100\n",
            "50/50 [==============================] - 68s 1s/step - loss: 0.0917 - acc: 0.9675 - val_loss: 0.8753 - val_acc: 0.7832\n",
            "Epoch 89/100\n",
            "50/50 [==============================] - 70s 1s/step - loss: 0.0912 - acc: 0.9681 - val_loss: 0.8604 - val_acc: 0.7771\n",
            "Epoch 90/100\n",
            "50/50 [==============================] - 68s 1s/step - loss: 0.0849 - acc: 0.9691 - val_loss: 0.9286 - val_acc: 0.7841\n",
            "Epoch 91/100\n",
            "50/50 [==============================] - 68s 1s/step - loss: 0.0782 - acc: 0.9722 - val_loss: 0.9306 - val_acc: 0.7695\n",
            "Epoch 92/100\n",
            "50/50 [==============================] - 68s 1s/step - loss: 0.0852 - acc: 0.9712 - val_loss: 0.9182 - val_acc: 0.7828\n",
            "Epoch 93/100\n",
            "50/50 [==============================] - 69s 1s/step - loss: 0.0949 - acc: 0.9657 - val_loss: 0.8951 - val_acc: 0.7803\n",
            "Epoch 94/100\n",
            "50/50 [==============================] - 69s 1s/step - loss: 0.0777 - acc: 0.9722 - val_loss: 0.9333 - val_acc: 0.7828\n",
            "Epoch 95/100\n",
            "50/50 [==============================] - 70s 1s/step - loss: 0.0728 - acc: 0.9750 - val_loss: 0.9439 - val_acc: 0.7883\n",
            "Epoch 96/100\n",
            "50/50 [==============================] - 68s 1s/step - loss: 0.0828 - acc: 0.9716 - val_loss: 0.9283 - val_acc: 0.7830\n",
            "Epoch 97/100\n",
            "50/50 [==============================] - 68s 1s/step - loss: 0.0713 - acc: 0.9756 - val_loss: 0.9352 - val_acc: 0.7794\n",
            "Epoch 98/100\n",
            "50/50 [==============================] - 68s 1s/step - loss: 0.0725 - acc: 0.9756 - val_loss: 0.9877 - val_acc: 0.7851\n",
            "Epoch 99/100\n",
            "50/50 [==============================] - 69s 1s/step - loss: 0.0923 - acc: 0.9656 - val_loss: 0.9411 - val_acc: 0.7835\n",
            "Epoch 100/100\n",
            "50/50 [==============================] - 68s 1s/step - loss: 0.0879 - acc: 0.9675 - val_loss: 0.9596 - val_acc: 0.7810\n"
          ]
        }
      ]
    },
    {
      "cell_type": "code",
      "source": [
        "!pip install matplotlib"
      ],
      "metadata": {
        "colab": {
          "base_uri": "https://localhost:8080/"
        },
        "id": "2z9lce4VgmOi",
        "outputId": "5ce9abd6-e90e-452f-f585-028ff6a32b8d"
      },
      "execution_count": null,
      "outputs": [
        {
          "output_type": "stream",
          "name": "stdout",
          "text": [
            "Requirement already satisfied: matplotlib in /usr/local/lib/python3.7/dist-packages (3.2.2)\n",
            "Requirement already satisfied: pyparsing!=2.0.4,!=2.1.2,!=2.1.6,>=2.0.1 in /usr/local/lib/python3.7/dist-packages (from matplotlib) (3.0.7)\n",
            "Requirement already satisfied: numpy>=1.11 in /usr/local/lib/python3.7/dist-packages (from matplotlib) (1.19.5)\n",
            "Requirement already satisfied: kiwisolver>=1.0.1 in /usr/local/lib/python3.7/dist-packages (from matplotlib) (1.3.2)\n",
            "Requirement already satisfied: python-dateutil>=2.1 in /usr/local/lib/python3.7/dist-packages (from matplotlib) (2.8.2)\n",
            "Requirement already satisfied: cycler>=0.10 in /usr/local/lib/python3.7/dist-packages (from matplotlib) (0.11.0)\n",
            "Requirement already satisfied: six>=1.5 in /usr/local/lib/python3.7/dist-packages (from python-dateutil>=2.1->matplotlib) (1.15.0)\n"
          ]
        }
      ]
    },
    {
      "cell_type": "code",
      "source": [
        "import matplotlib.pyplot as plt"
      ],
      "metadata": {
        "id": "GsS1TnJggv2i"
      },
      "execution_count": null,
      "outputs": []
    },
    {
      "cell_type": "code",
      "source": [
        "test_sen = [\"mình ghét môn tiếng anh\"]\n",
        "test_seq = tokenizer.texts_to_sequences(test_sen)\n",
        "padded_test_seq = pad_sequences(test_seq, maxlen = 140)\n",
        "padded_test_seq"
      ],
      "metadata": {
        "colab": {
          "base_uri": "https://localhost:8080/"
        },
        "id": "eQ31yJnYgyfk",
        "outputId": "32d296b3-8bba-4d0e-8565-033c814f3b39"
      },
      "execution_count": null,
      "outputs": [
        {
          "output_type": "execute_result",
          "data": {
            "text/plain": [
              "array([[   0,    0,    0,    0,    0,    0,    0,    0,    0,    0,    0,\n",
              "           0,    0,    0,    0,    0,    0,    0,    0,    0,    0,    0,\n",
              "           0,    0,    0,    0,    0,    0,    0,    0,    0,    0,    0,\n",
              "           0,    0,    0,    0,    0,    0,    0,    0,    0,    0,    0,\n",
              "           0,    0,    0,    0,    0,    0,    0,    0,    0,    0,    0,\n",
              "           0,    0,    0,    0,    0,    0,    0,    0,    0,    0,    0,\n",
              "           0,    0,    0,    0,    0,    0,    0,    0,    0,    0,    0,\n",
              "           0,    0,    0,    0,    0,    0,    0,    0,    0,    0,    0,\n",
              "           0,    0,    0,    0,    0,    0,    0,    0,    0,    0,    0,\n",
              "           0,    0,    0,    0,    0,    0,    0,    0,    0,    0,    0,\n",
              "           0,    0,    0,    0,    0,    0,    0,    0,    0,    0,    0,\n",
              "           0,    0,    0,    0,    0,    0,    0,    0,    0,    0,    0,\n",
              "           0,    0,    0,  131, 2216,   43,   78,   75]], dtype=int32)"
            ]
          },
          "metadata": {},
          "execution_count": 37
        }
      ]
    },
    {
      "cell_type": "code",
      "source": [
        "model.predict(padded_test_seq)"
      ],
      "metadata": {
        "colab": {
          "base_uri": "https://localhost:8080/"
        },
        "id": "VR47K7fjg0lW",
        "outputId": "279a5e6c-0bcb-44eb-fa38-085325e1e158"
      },
      "execution_count": null,
      "outputs": [
        {
          "output_type": "execute_result",
          "data": {
            "text/plain": [
              "array([[0.02578801, 0.46475723, 0.5094548 ]], dtype=float32)"
            ]
          },
          "metadata": {},
          "execution_count": 38
        }
      ]
    },
    {
      "cell_type": "code",
      "source": [
        "acc = history.history['acc']\n",
        "val_acc = history.history['val_acc']\n",
        "loss = history.history['loss']\n",
        "val_loss = history.history['val_loss']\n",
        "\n",
        "epochs = range(len(acc))\n",
        "plt.plot(epochs, acc, 'r', label='Training accuracy')\n",
        "plt.plot(epochs, val_acc, 'b', label='Validation accuracy')\n",
        "plt.title('Training and validation accuracy')\n",
        "plt.legend(loc=0)\n",
        "plt.figure()\n",
        "plt.show()"
      ],
      "metadata": {
        "colab": {
          "base_uri": "https://localhost:8080/",
          "height": 299
        },
        "id": "84iaWt2Pg4K0",
        "outputId": "2eafe3ce-4aae-4865-85a8-b563be73693d"
      },
      "execution_count": null,
      "outputs": [
        {
          "output_type": "display_data",
          "data": {
            "image/png": "[encoded data removed]",
            "text/plain": [
              "<Figure size 432x288 with 1 Axes>"
            ]
          },
          "metadata": {
            "needs_background": "light"
          }
        },
        {
          "output_type": "display_data",
          "data": {
            "text/plain": [
              "<Figure size 432x288 with 0 Axes>"
            ]
          },
          "metadata": {}
        }
      ]
    },
    {
      "cell_type": "code",
      "source": [
        "plt.plot(epochs, loss, 'r', label='Training loss')\n",
        "plt.plot(epochs, val_loss, 'b', label='Validation loss')\n",
        "plt.title('Training and validation loss')\n",
        "plt.legend(loc=0)\n",
        "plt.figure()\n",
        "plt.show()"
      ],
      "metadata": {
        "colab": {
          "base_uri": "https://localhost:8080/",
          "height": 299
        },
        "id": "9dYEnnY8g6JM",
        "outputId": "3cb12d1d-4c09-44bb-c80b-27ec23fabc7a"
      },
      "execution_count": null,
      "outputs": [
        {
          "output_type": "display_data",
          "data": {
            "image/png": "[encoded data removed]",
            "text/plain": [
              "<Figure size 432x288 with 1 Axes>"
            ]
          },
          "metadata": {
            "needs_background": "light"
          }
        },
        {
          "output_type": "display_data",
          "data": {
            "text/plain": [
              "<Figure size 432x288 with 0 Axes>"
            ]
          },
          "metadata": {}
        }
      ]
    },
    {
      "cell_type": "code",
      "source": [
        "y_pred = model.predict(padded_x_test, batch_size=50)\n",
        "labels = ['Tiêu cực', 'Trung tính', 'Tích cực']"
      ],
      "metadata": {
        "id": "m8dt7QdnhARa"
      },
      "execution_count": null,
      "outputs": []
    },
    {
      "cell_type": "code",
      "source": [
        "predY = []\n",
        "testY = []\n",
        "for i in range(2000):\n",
        "  y_p = np.argmax(y_pred[i])\n",
        "  y_t = np.argmax(y_test[i])\n",
        "  predY.append(y_p)\n",
        "  testY.append(y_t)"
      ],
      "metadata": {
        "id": "abY4NtvDhQwd"
      },
      "execution_count": null,
      "outputs": []
    },
    {
      "cell_type": "code",
      "source": [
        "cm = confusion_matrix(testY, predY)\n",
        "disp = ConfusionMatrixDisplay(confusion_matrix=cm, display_labels=labels)\n",
        "disp.plot(cmap=plt.cm.Blues)\n",
        "plt.show()"
      ],
      "metadata": {
        "colab": {
          "base_uri": "https://localhost:8080/",
          "height": 280
        },
        "id": "rancgE7JhI2Q",
        "outputId": "d2d59c32-ccc5-4d40-832e-6ad56f360f87"
      },
      "execution_count": null,
      "outputs": [
        {
          "output_type": "display_data",
          "data": {
            "image/png": "[encoded data removed]",
            "text/plain": [
              "<Figure size 432x288 with 2 Axes>"
            ]
          },
          "metadata": {
            "needs_background": "light"
          }
        }
      ]
    },
    {
      "cell_type": "code",
      "source": [
        "print(classification_report(testY, predY, target_names=labels))"
      ],
      "metadata": {
        "colab": {
          "base_uri": "https://localhost:8080/"
        },
        "id": "jYBbqTR_hUt3",
        "outputId": "3afa27e2-d8c4-44e8-e20d-fd1dd40d5554"
      },
      "execution_count": null,
      "outputs": [
        {
          "output_type": "stream",
          "name": "stdout",
          "text": [
            "              precision    recall  f1-score   support\n",
            "\n",
            "    Tiêu cực       0.80      0.81      0.80       962\n",
            "  Trung tính       0.32      0.21      0.25        85\n",
            "    Tích cực       0.79      0.81      0.80       953\n",
            "\n",
            "    accuracy                           0.78      2000\n",
            "   macro avg       0.64      0.61      0.62      2000\n",
            "weighted avg       0.77      0.78      0.78      2000\n",
            "\n"
          ]
        }
      ]
    }
  ]
}