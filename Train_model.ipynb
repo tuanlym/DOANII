{
  "cells": [
    {
      "cell_type": "markdown",
      "metadata": {
        "id": "view-in-github",
        "colab_type": "text"
      },
      "source": [
        "<a href=\"https://colab.research.google.com/github/tuanlym/DOANII/blob/main/Train_model.ipynb\" target=\"_parent\"><img src=\"https://colab.research.google.com/assets/colab-badge.svg\" alt=\"Open In Colab\"/></a>"
      ]
    },
    {
      "cell_type": "code",
      "execution_count": null,
      "metadata": {
        "colab": {
          "base_uri": "https://localhost:8080/"
        },
        "id": "L9TWNqwRzBeY",
        "outputId": "21ed060c-780d-48cc-97de-71aa2df03865"
      },
      "outputs": [
        {
          "output_type": "stream",
          "name": "stdout",
          "text": [
            "Requirement already satisfied: keras in /usr/local/lib/python3.7/dist-packages (2.7.0)\n",
            "Collecting pyvi\n",
            "  Downloading pyvi-0.1.1-py2.py3-none-any.whl (8.5 MB)\n",
            "\u001b[K     |████████████████████████████████| 8.5 MB 4.8 MB/s \n",
            "\u001b[?25hCollecting sklearn-crfsuite\n",
            "  Downloading sklearn_crfsuite-0.3.6-py2.py3-none-any.whl (12 kB)\n",
            "Requirement already satisfied: scikit-learn in /usr/local/lib/python3.7/dist-packages (from pyvi) (1.0.1)\n",
            "Requirement already satisfied: joblib>=0.11 in /usr/local/lib/python3.7/dist-packages (from scikit-learn->pyvi) (1.1.0)\n",
            "Requirement already satisfied: scipy>=1.1.0 in /usr/local/lib/python3.7/dist-packages (from scikit-learn->pyvi) (1.4.1)\n",
            "Requirement already satisfied: numpy>=1.14.6 in /usr/local/lib/python3.7/dist-packages (from scikit-learn->pyvi) (1.19.5)\n",
            "Requirement already satisfied: threadpoolctl>=2.0.0 in /usr/local/lib/python3.7/dist-packages (from scikit-learn->pyvi) (3.0.0)\n",
            "Requirement already satisfied: six in /usr/local/lib/python3.7/dist-packages (from sklearn-crfsuite->pyvi) (1.15.0)\n",
            "Requirement already satisfied: tabulate in /usr/local/lib/python3.7/dist-packages (from sklearn-crfsuite->pyvi) (0.8.9)\n",
            "Requirement already satisfied: tqdm>=2.0 in /usr/local/lib/python3.7/dist-packages (from sklearn-crfsuite->pyvi) (4.62.3)\n",
            "Collecting python-crfsuite>=0.8.3\n",
            "  Downloading python_crfsuite-0.9.7-cp37-cp37m-manylinux1_x86_64.whl (743 kB)\n",
            "\u001b[K     |████████████████████████████████| 743 kB 51.7 MB/s \n",
            "\u001b[?25hInstalling collected packages: python-crfsuite, sklearn-crfsuite, pyvi\n",
            "Successfully installed python-crfsuite-0.9.7 pyvi-0.1.1 sklearn-crfsuite-0.3.6\n",
            "Requirement already satisfied: pandas in /usr/local/lib/python3.7/dist-packages (1.1.5)\n",
            "Requirement already satisfied: pytz>=2017.2 in /usr/local/lib/python3.7/dist-packages (from pandas) (2018.9)\n",
            "Requirement already satisfied: python-dateutil>=2.7.3 in /usr/local/lib/python3.7/dist-packages (from pandas) (2.8.2)\n",
            "Requirement already satisfied: numpy>=1.15.4 in /usr/local/lib/python3.7/dist-packages (from pandas) (1.19.5)\n",
            "Requirement already satisfied: six>=1.5 in /usr/local/lib/python3.7/dist-packages (from python-dateutil>=2.7.3->pandas) (1.15.0)\n",
            "Requirement already satisfied: numpy in /usr/local/lib/python3.7/dist-packages (1.19.5)\n",
            "Requirement already satisfied: gensim in /usr/local/lib/python3.7/dist-packages (3.6.0)\n",
            "Requirement already satisfied: six>=1.5.0 in /usr/local/lib/python3.7/dist-packages (from gensim) (1.15.0)\n",
            "Requirement already satisfied: numpy>=1.11.3 in /usr/local/lib/python3.7/dist-packages (from gensim) (1.19.5)\n",
            "Requirement already satisfied: scipy>=0.18.1 in /usr/local/lib/python3.7/dist-packages (from gensim) (1.4.1)\n",
            "Requirement already satisfied: smart-open>=1.2.1 in /usr/local/lib/python3.7/dist-packages (from gensim) (5.2.1)\n"
          ]
        }
      ],
      "source": [
        "!pip install keras\n",
        "!pip install pyvi\n",
        "!pip install pandas\n",
        "!pip install numpy\n",
        "!pip install gensim"
      ]
    },
    {
      "cell_type": "code",
      "execution_count": null,
      "metadata": {
        "id": "anICQt-6UeQ0"
      },
      "outputs": [],
      "source": [
        "import gensim, re\n",
        "import numpy as np\n",
        "import pandas as pd\n",
        "import pickle\n",
        "from os import listdir\n",
        "\n",
        "from sklearn.model_selection import train_test_split\n",
        "from keras.preprocessing.text import Tokenizer\n",
        "from keras.preprocessing.sequence import pad_sequences\n",
        "\n",
        "import sys\n",
        "import os\n",
        "\n",
        "from keras.regularizers import l1\n",
        "from keras.layers import Activation\n",
        "from keras.models import Sequential, load_model\n",
        "from keras.layers import LSTM, Dense, Embedding, Dropout\n",
        "from pyvi import ViTokenizer\n",
        "from keras.preprocessing.text import Tokenizer\n",
        "from gensim.parsing.preprocessing import strip_non_alphanum, strip_multiple_whitespaces,preprocess_string, split_alphanum, strip_short, strip_numeric\n"
      ]
    },
    {
      "cell_type": "code",
      "source": [
        "!pip install matplotlib"
      ],
      "metadata": {
        "colab": {
          "base_uri": "https://localhost:8080/"
        },
        "id": "d0ccFOg3dL7O",
        "outputId": "69b618d5-d883-4c99-8adf-b3fba1b67244"
      },
      "execution_count": null,
      "outputs": [
        {
          "output_type": "stream",
          "name": "stdout",
          "text": [
            "Requirement already satisfied: matplotlib in /usr/local/lib/python3.7/dist-packages (3.2.2)\n",
            "Requirement already satisfied: cycler>=0.10 in /usr/local/lib/python3.7/dist-packages (from matplotlib) (0.11.0)\n",
            "Requirement already satisfied: numpy>=1.11 in /usr/local/lib/python3.7/dist-packages (from matplotlib) (1.19.5)\n",
            "Requirement already satisfied: kiwisolver>=1.0.1 in /usr/local/lib/python3.7/dist-packages (from matplotlib) (1.3.2)\n",
            "Requirement already satisfied: pyparsing!=2.0.4,!=2.1.2,!=2.1.6,>=2.0.1 in /usr/local/lib/python3.7/dist-packages (from matplotlib) (3.0.6)\n",
            "Requirement already satisfied: python-dateutil>=2.1 in /usr/local/lib/python3.7/dist-packages (from matplotlib) (2.8.2)\n",
            "Requirement already satisfied: six>=1.5 in /usr/local/lib/python3.7/dist-packages (from python-dateutil>=2.1->matplotlib) (1.15.0)\n"
          ]
        }
      ]
    },
    {
      "cell_type": "code",
      "source": [
        "def clean_document(raw):\n",
        "    raw = ViTokenizer.tokenize(raw)\n",
        "    raw = strip_non_alphanum(raw).lower().strip()\n",
        "    raw = split_alphanum(raw)\n",
        "    raw = strip_short(raw, minsize=2)\n",
        "    raw = strip_numeric(raw)\n",
        "    tokens = raw.split()\n",
        "    return tokens"
      ],
      "metadata": {
        "id": "4kPvAD0fpLz9"
      },
      "execution_count": null,
      "outputs": []
    },
    {
      "cell_type": "code",
      "source": [
        "stop_word = ['bị', 'bởi', 'cả', 'các', 'cái', 'cần', 'càng', 'chỉ', 'chiếc', 'cho', 'chứ', 'chưa', 'chuyện', 'có', 'có_thể', 'cứ', 'của', 'cùng', 'cũng', 'đã', 'đang', 'đây', 'để', 'đến_nỗi', 'đều', 'điều', 'do', 'đó', 'được', 'dưới', 'gì', 'khi', 'không', 'là', 'lại', 'lên', 'lúc', 'mà', 'mỗi', 'một_cách', 'này', 'nên', 'nếu', 'ngay', 'nhiều', 'như', 'nhưng', 'những', 'nơi', 'nữa', 'phải', 'qua', 'ra', 'rằng', 'rằng', 'rất', 'rất', 'rồi', 'sau', 'sẽ', 'so', 'sự', 'tại', 'theo', 'thì', 'trên', 'trước', 'từ', 'từng', 'và', 'vẫn', 'vào', 'vậy', 'vì', 'việc', 'với', 'vừa', '!', '\"', '#', '$', '%', '&', \"'\", '(', ')', '*', '+', ',', '-', '.', '/', ':', ';', '<', '=', '>', '?', '@', '[', '\\\\', ']', '^', '_', '`', '{', '|', '}', '~']"
      ],
      "metadata": {
        "id": "MSsFGX6xpR39"
      },
      "execution_count": null,
      "outputs": []
    },
    {
      "cell_type": "code",
      "source": [
        "def remove_stopwords(line):\n",
        "    words = []\n",
        "    for word in line.strip().split():\n",
        "        if word not in stop_word:\n",
        "            words.append(word)\n",
        "    return ' '.join(words)\n",
        "    return line"
      ],
      "metadata": {
        "id": "HHO_VFfNkwLi"
      },
      "execution_count": null,
      "outputs": []
    },
    {
      "cell_type": "code",
      "execution_count": null,
      "metadata": {
        "colab": {
          "base_uri": "https://localhost:8080/"
        },
        "id": "twVhoiPJcXeG",
        "outputId": "4a9fa545-6beb-417c-8dfe-d7f9e0ee96a9"
      },
      "outputs": [
        {
          "output_type": "execute_result",
          "data": {
            "text/plain": [
              "['trường', 'đại_học', 'bách_khoa', 'hà_nội']"
            ]
          },
          "metadata": {},
          "execution_count": 8
        }
      ],
      "source": [
        "clean_document(\"---Trường đại học, bách khoa hà nội\")"
      ]
    },
    {
      "cell_type": "code",
      "execution_count": null,
      "metadata": {
        "id": "mEarZprMUWvn"
      },
      "outputs": [],
      "source": [
        "with open('/content/drive/MyDrive/DOANII /train_sents.txt','r') as f:\n",
        "  data = f.readlines()"
      ]
    },
    {
      "cell_type": "code",
      "execution_count": null,
      "metadata": {
        "id": "xGEE9p75U7dJ"
      },
      "outputs": [],
      "source": [
        "\n",
        "document = []\n",
        "for d in data:\n",
        "    document.append(d)\n"
      ]
    },
    {
      "cell_type": "code",
      "execution_count": null,
      "metadata": {
        "id": "ugOgv1oOjux5"
      },
      "outputs": [],
      "source": [
        "sentences = []\n",
        "for d in document:\n",
        "  d = ViTokenizer.tokenize(d)\n",
        "  d = remove_stopwords(d)\n",
        "  sentences.append(clean_document(d))"
      ]
    },
    {
      "cell_type": "code",
      "execution_count": null,
      "metadata": {
        "id": "3SYrBqQnlxnI",
        "colab": {
          "base_uri": "https://localhost:8080/",
          "height": 54
        },
        "outputId": "6d02e110-825e-4817-ae44-bea1a67c5bd2"
      },
      "outputs": [
        {
          "output_type": "stream",
          "name": "stdout",
          "text": [
            "['em', 'hi_vọng', 'trong', 'tiết', 'học', 'thầy', 'đi_sâu', 'kiến_thức', 'chuyên_môn', 'giảm', 'bớt', 'thời_lượng', 'hoạt_động', 'liên_hệ', 'thực_tế']\n"
          ]
        },
        {
          "output_type": "execute_result",
          "data": {
            "application/vnd.google.colaboratory.intrinsic+json": {
              "type": "string"
            },
            "text/plain": [
              "'em hi vọng trong các tiết học thầy có thể đi sâu vào kiến thức chuyên môn và giảm bớt thời lượng của hoạt động liên hệ thực tế .\\n'"
            ]
          },
          "metadata": {},
          "execution_count": 14
        }
      ],
      "source": [
        "t = 923\n",
        "print(sentences[t])\n",
        "document[t]"
      ]
    },
    {
      "cell_type": "code",
      "execution_count": null,
      "metadata": {
        "id": "lvg9C9AKWA62"
      },
      "outputs": [],
      "source": [
        "with open('/content/drive/MyDrive/DOANII /train_sentiments.txt','r') as f:\n",
        "  labels_data = f.readlines()\n",
        "labelsdata = []\n",
        "for line in labels_data:\n",
        "  labelsdata.append(line.strip())\n",
        "labelsdata"
      ]
    },
    {
      "cell_type": "code",
      "execution_count": null,
      "metadata": {
        "id": "1FMUIlIpV3m2"
      },
      "outputs": [],
      "source": [
        "\n",
        "labels = []\n",
        "for i in range(0,len(labelsdata)):\n",
        "  if labelsdata[i] == '0':\n",
        "     labels.append((1,0,0))\n",
        "  elif labelsdata[i] == '1':\n",
        "     labels.append((0,1,0))\n",
        "  else:\n",
        "     labels.append((0,0,1))\n",
        "labels = pd.get_dummies(labels)\n",
        "labels"
      ]
    },
    {
      "cell_type": "code",
      "execution_count": null,
      "metadata": {
        "id": "rwU9COZyYBzY"
      },
      "outputs": [],
      "source": [
        "tokenizer = Tokenizer(filters='!\"#$%&()*+,-./:;<=>?@[\\]^`{|}~ ')\n",
        "tokenizer.fit_on_texts(sentences)\n",
        "tokenizer.word_index"
      ]
    },
    {
      "cell_type": "code",
      "execution_count": null,
      "metadata": {
        "id": "zDIUhZVfYKEO",
        "colab": {
          "base_uri": "https://localhost:8080/"
        },
        "outputId": "c0fd1bd9-9706-43fc-b695-29ceaf16cde9"
      },
      "outputs": [
        {
          "output_type": "execute_result",
          "data": {
            "text/plain": [
              "(11426, 66)"
            ]
          },
          "metadata": {},
          "execution_count": 49
        }
      ],
      "source": [
        "inputs = tokenizer.texts_to_sequences(sentences)\n",
        "inputs = pad_sequences(inputs)\n",
        "inputs.shape"
      ]
    },
    {
      "cell_type": "code",
      "execution_count": null,
      "metadata": {
        "id": "6i8HmqOXYM-6"
      },
      "outputs": [],
      "source": [
        "x_train = np.array(inputs)\n",
        "y_train = np.array(labels)"
      ]
    },
    {
      "cell_type": "code",
      "execution_count": null,
      "metadata": {
        "id": "DssianV3YdEr"
      },
      "outputs": [],
      "source": [
        "word_model = gensim.models.Word2Vec(sentences, size=300, window = 10, min_count=1, iter=10)"
      ]
    },
    {
      "cell_type": "code",
      "execution_count": null,
      "metadata": {
        "id": "I_UJOnpaYj9T"
      },
      "outputs": [],
      "source": [
        "word_model.wv.save_word2vec_format('/content/vnw2v.txt', fvocab=None, binary=False)"
      ]
    },
    {
      "cell_type": "code",
      "source": [
        "word_model.wv.most_similar(\"hấp_dẫn\")"
      ],
      "metadata": {
        "id": "xBieFl6FFu81",
        "colab": {
          "base_uri": "https://localhost:8080/"
        },
        "outputId": "77895e82-91fa-4031-839b-5a6336ad2958"
      },
      "execution_count": null,
      "outputs": [
        {
          "output_type": "execute_result",
          "data": {
            "text/plain": [
              "[('lôi_cuốn', 0.9939508438110352),\n",
              " ('sinh_động', 0.992962121963501),\n",
              " ('cute', 0.9908138513565063),\n",
              " ('thực_tại', 0.9906719326972961),\n",
              " ('dậy', 0.9905221462249756),\n",
              " ('gây_sự', 0.9891256093978882),\n",
              " ('súc_tích', 0.9891138076782227),\n",
              " ('mến', 0.9878492951393127),\n",
              " ('sâu_rộng', 0.9877545833587646),\n",
              " ('giảo', 0.9873903393745422)]"
            ]
          },
          "metadata": {},
          "execution_count": 28
        }
      ]
    },
    {
      "cell_type": "code",
      "source": [
        "# x_train, x_test, y_train, y_test = train_test_split(inputs, labels, test_size=0.3, shuffle=True)"
      ],
      "metadata": {
        "id": "OPzfVe6g1Wgu"
      },
      "execution_count": null,
      "outputs": []
    },
    {
      "cell_type": "code",
      "source": [
        "# x_train = np.array(x_train)\n",
        "# y_train = np.array(y_train)\n",
        "# x_test = np.array(x_test)\n",
        "# y_test = np.array(y_test)"
      ],
      "metadata": {
        "id": "mcerVNFn16p9"
      },
      "execution_count": null,
      "outputs": []
    },
    {
      "cell_type": "code",
      "source": [
        ""
      ],
      "metadata": {
        "id": "TFzy-Z5NjpTG"
      },
      "execution_count": null,
      "outputs": []
    },
    {
      "cell_type": "code",
      "execution_count": null,
      "metadata": {
        "colab": {
          "base_uri": "https://localhost:8080/"
        },
        "id": "2jJWuDShgiMK",
        "outputId": "fa6462ca-9d62-4081-cc6c-14ce540ff9d1"
      },
      "outputs": [
        {
          "output_type": "stream",
          "name": "stdout",
          "text": [
            "Model: \"sequential_1\"\n",
            "_________________________________________________________________\n",
            " Layer (type)                Output Shape              Param #   \n",
            "=================================================================\n",
            " embedding_1 (Embedding)     (None, 74, 300)           1009200   \n",
            "                                                                 \n",
            " lstm_1 (LSTM)               (None, 300)               721200    \n",
            "                                                                 \n",
            " dense_1 (Dense)             (None, 3)                 903       \n",
            "                                                                 \n",
            "=================================================================\n",
            "Total params: 1,731,303\n",
            "Trainable params: 722,103\n",
            "Non-trainable params: 1,009,200\n",
            "_________________________________________________________________\n",
            "Epoch 1/5\n",
            "88/88 [==============================] - 56s 612ms/step - loss: 0.7252 - acc: 0.6652 - val_loss: 0.7031 - val_acc: 0.6562\n",
            "Epoch 2/5\n",
            "88/88 [==============================] - 53s 605ms/step - loss: 0.6604 - acc: 0.7074 - val_loss: 0.6226 - val_acc: 0.7088\n",
            "Epoch 3/5\n",
            "88/88 [==============================] - 53s 604ms/step - loss: 0.6136 - acc: 0.7279 - val_loss: 0.5904 - val_acc: 0.7225\n",
            "Epoch 4/5\n",
            "88/88 [==============================] - 54s 612ms/step - loss: 0.5882 - acc: 0.7442 - val_loss: 0.5854 - val_acc: 0.7396\n",
            "Epoch 5/5\n",
            "88/88 [==============================] - 53s 599ms/step - loss: 0.5643 - acc: 0.7558 - val_loss: 0.5535 - val_acc: 0.7533\n"
          ]
        }
      ],
      "source": [
        "\n",
        "embedding_matrix = np.zeros((len(word_model.wv.vocab) + 1, 300))\n",
        "for i, vec in enumerate(word_model.wv.vectors):\n",
        "  embedding_matrix[i] = vec\n",
        "model = Sequential()\n",
        "model.add(Embedding(len(word_model.wv.vocab) +1,300,input_length=inputs.shape[1],weights=[embedding_matrix],trainable=False))\n",
        "model.add(LSTM(300,return_sequences=False))\n",
        "model.add(Dense(3,activation=\"softmax\"))\n",
        "model.summary()\n",
        "model.compile(optimizer=\"adam\",loss=\"categorical_crossentropy\",metrics=['acc'])\n",
        "#model.add(Dropout(0.2))\n",
        "batch = 64\n",
        "epochs = 5\n",
        "history = model.fit(x_train,y_train,batch,epochs,validation_split = 0.3)"
      ]
    },
    {
      "cell_type": "code",
      "source": [
        "with open('/content/drive/MyDrive/DOANII /test_sents.txt','r') as f:\n",
        "  test_data = f.readlines()\n",
        "print(len(test_data))\n",
        "test_document = []\n",
        "for d in data:\n",
        "    test_document.append(d)\n",
        "test_sentences = []\n",
        "for d in test_document:\n",
        "  d = ViTokenizer.tokenize(d)\n",
        "  d = remove_stopwords(d)\n",
        "  test_sentences.append(clean_document(d))\n",
        "tokenizer = Tokenizer(filters='!\"#$%&()*+,-./:;<=>?@[\\]^`{|}~ ')\n",
        "tokenizer.fit_on_texts(test_sentences)\n",
        "tokenizer.word_index\n",
        "inputs_test = tokenizer.texts_to_sequences(test_sentences)\n",
        "inputs_test = pad_sequences(inputs_test)\n",
        "inputs_test.shape\n"
      ],
      "metadata": {
        "colab": {
          "base_uri": "https://localhost:8080/"
        },
        "id": "hN1wu1A9ryWf",
        "outputId": "cb104b3a-be23-4433-ff98-c8295776f6a2"
      },
      "execution_count": null,
      "outputs": [
        {
          "output_type": "stream",
          "name": "stdout",
          "text": [
            "3166\n"
          ]
        },
        {
          "output_type": "execute_result",
          "data": {
            "text/plain": [
              "(3166, 47)"
            ]
          },
          "metadata": {},
          "execution_count": 61
        }
      ]
    },
    {
      "cell_type": "code",
      "source": [
        ""
      ],
      "metadata": {
        "id": "M8RUI0014cXL"
      },
      "execution_count": null,
      "outputs": []
    },
    {
      "cell_type": "code",
      "source": [
        "with open('/content/drive/MyDrive/DOANII /test_sentiments.txt','r') as f:\n",
        "  test_labels_data = f.readlines()\n",
        "test_labelsdata = []\n",
        "for line in test_labels_data:\n",
        "  test_labelsdata.append(line.strip())\n",
        "test_labelsdata\n",
        "test_labels = []\n",
        "for i in range(0,len(test_labelsdata)):\n",
        "  if test_labelsdata[i] == '0':\n",
        "     test_labels.append((1,0,0))\n",
        "  elif test_labelsdata[i] == '1':\n",
        "     test_labels.append((0,1,0))\n",
        "  else:\n",
        "     test_labels.append((0,0,1))\n",
        "test_labels = pd.get_dummies(test_labels)\n",
        "test_labels.shape"
      ],
      "metadata": {
        "colab": {
          "base_uri": "https://localhost:8080/"
        },
        "id": "Fa8s-CYezv2J",
        "outputId": "98814b27-7a50-4972-be67-77a32f96390d"
      },
      "execution_count": null,
      "outputs": [
        {
          "output_type": "execute_result",
          "data": {
            "text/plain": [
              "(3166, 3)"
            ]
          },
          "metadata": {},
          "execution_count": 64
        }
      ]
    },
    {
      "cell_type": "code",
      "source": [
        "x_test = np.array(inputs_test)\n",
        "y_test = np.array(test_labels)"
      ],
      "metadata": {
        "id": "zmArMR465KjW"
      },
      "execution_count": null,
      "outputs": []
    },
    {
      "cell_type": "code",
      "source": [
        "valid = model.evaluate(x_test,y_test)"
      ],
      "metadata": {
        "id": "Nyp61_1eyLGd",
        "colab": {
          "base_uri": "https://localhost:8080/",
          "height": 596
        },
        "outputId": "b2fda93a-2270-4fcc-ad07-b39b816b4531"
      },
      "execution_count": null,
      "outputs": [
        {
          "output_type": "error",
          "ename": "ValueError",
          "evalue": "ignored",
          "traceback": [
            "\u001b[0;31m---------------------------------------------------------------------------\u001b[0m",
            "\u001b[0;31mValueError\u001b[0m                                Traceback (most recent call last)",
            "\u001b[0;32m<ipython-input-68-7f6d28cc0fbf>\u001b[0m in \u001b[0;36m<module>\u001b[0;34m()\u001b[0m\n\u001b[0;32m----> 1\u001b[0;31m \u001b[0mvalid\u001b[0m \u001b[0;34m=\u001b[0m \u001b[0mmodel\u001b[0m\u001b[0;34m.\u001b[0m\u001b[0mevaluate\u001b[0m\u001b[0;34m(\u001b[0m\u001b[0mx_test\u001b[0m\u001b[0;34m,\u001b[0m\u001b[0my_test\u001b[0m\u001b[0;34m)\u001b[0m\u001b[0;34m\u001b[0m\u001b[0;34m\u001b[0m\u001b[0m\n\u001b[0m",
            "\u001b[0;32m/usr/local/lib/python3.7/dist-packages/keras/utils/traceback_utils.py\u001b[0m in \u001b[0;36merror_handler\u001b[0;34m(*args, **kwargs)\u001b[0m\n\u001b[1;32m     65\u001b[0m     \u001b[0;32mexcept\u001b[0m \u001b[0mException\u001b[0m \u001b[0;32mas\u001b[0m \u001b[0me\u001b[0m\u001b[0;34m:\u001b[0m  \u001b[0;31m# pylint: disable=broad-except\u001b[0m\u001b[0;34m\u001b[0m\u001b[0;34m\u001b[0m\u001b[0m\n\u001b[1;32m     66\u001b[0m       \u001b[0mfiltered_tb\u001b[0m \u001b[0;34m=\u001b[0m \u001b[0m_process_traceback_frames\u001b[0m\u001b[0;34m(\u001b[0m\u001b[0me\u001b[0m\u001b[0;34m.\u001b[0m\u001b[0m__traceback__\u001b[0m\u001b[0;34m)\u001b[0m\u001b[0;34m\u001b[0m\u001b[0;34m\u001b[0m\u001b[0m\n\u001b[0;32m---> 67\u001b[0;31m       \u001b[0;32mraise\u001b[0m \u001b[0me\u001b[0m\u001b[0;34m.\u001b[0m\u001b[0mwith_traceback\u001b[0m\u001b[0;34m(\u001b[0m\u001b[0mfiltered_tb\u001b[0m\u001b[0;34m)\u001b[0m \u001b[0;32mfrom\u001b[0m \u001b[0;32mNone\u001b[0m\u001b[0;34m\u001b[0m\u001b[0;34m\u001b[0m\u001b[0m\n\u001b[0m\u001b[1;32m     68\u001b[0m     \u001b[0;32mfinally\u001b[0m\u001b[0;34m:\u001b[0m\u001b[0;34m\u001b[0m\u001b[0;34m\u001b[0m\u001b[0m\n\u001b[1;32m     69\u001b[0m       \u001b[0;32mdel\u001b[0m \u001b[0mfiltered_tb\u001b[0m\u001b[0;34m\u001b[0m\u001b[0;34m\u001b[0m\u001b[0m\n",
            "\u001b[0;32m/usr/local/lib/python3.7/dist-packages/tensorflow/python/framework/func_graph.py\u001b[0m in \u001b[0;36mautograph_handler\u001b[0;34m(*args, **kwargs)\u001b[0m\n\u001b[1;32m   1127\u001b[0m           \u001b[0;32mexcept\u001b[0m \u001b[0mException\u001b[0m \u001b[0;32mas\u001b[0m \u001b[0me\u001b[0m\u001b[0;34m:\u001b[0m  \u001b[0;31m# pylint:disable=broad-except\u001b[0m\u001b[0;34m\u001b[0m\u001b[0;34m\u001b[0m\u001b[0m\n\u001b[1;32m   1128\u001b[0m             \u001b[0;32mif\u001b[0m \u001b[0mhasattr\u001b[0m\u001b[0;34m(\u001b[0m\u001b[0me\u001b[0m\u001b[0;34m,\u001b[0m \u001b[0;34m\"ag_error_metadata\"\u001b[0m\u001b[0;34m)\u001b[0m\u001b[0;34m:\u001b[0m\u001b[0;34m\u001b[0m\u001b[0;34m\u001b[0m\u001b[0m\n\u001b[0;32m-> 1129\u001b[0;31m               \u001b[0;32mraise\u001b[0m \u001b[0me\u001b[0m\u001b[0;34m.\u001b[0m\u001b[0mag_error_metadata\u001b[0m\u001b[0;34m.\u001b[0m\u001b[0mto_exception\u001b[0m\u001b[0;34m(\u001b[0m\u001b[0me\u001b[0m\u001b[0;34m)\u001b[0m\u001b[0;34m\u001b[0m\u001b[0;34m\u001b[0m\u001b[0m\n\u001b[0m\u001b[1;32m   1130\u001b[0m             \u001b[0;32melse\u001b[0m\u001b[0;34m:\u001b[0m\u001b[0;34m\u001b[0m\u001b[0;34m\u001b[0m\u001b[0m\n\u001b[1;32m   1131\u001b[0m               \u001b[0;32mraise\u001b[0m\u001b[0;34m\u001b[0m\u001b[0;34m\u001b[0m\u001b[0m\n",
            "\u001b[0;31mValueError\u001b[0m: in user code:\n\n    File \"/usr/local/lib/python3.7/dist-packages/keras/engine/training.py\", line 1366, in test_function  *\n        return step_function(self, iterator)\n    File \"/usr/local/lib/python3.7/dist-packages/keras/engine/training.py\", line 1356, in step_function  **\n        outputs = model.distribute_strategy.run(run_step, args=(data,))\n    File \"/usr/local/lib/python3.7/dist-packages/keras/engine/training.py\", line 1349, in run_step  **\n        outputs = model.test_step(data)\n    File \"/usr/local/lib/python3.7/dist-packages/keras/engine/training.py\", line 1303, in test_step\n        y_pred = self(x, training=False)\n    File \"/usr/local/lib/python3.7/dist-packages/keras/utils/traceback_utils.py\", line 67, in error_handler\n        raise e.with_traceback(filtered_tb) from None\n    File \"/usr/local/lib/python3.7/dist-packages/keras/engine/input_spec.py\", line 263, in assert_input_compatibility\n        raise ValueError(f'Input {input_index} of layer \"{layer_name}\" is '\n\n    ValueError: Input 0 of layer \"sequential_1\" is incompatible with the layer: expected shape=(None, 74), found shape=(None, 47)\n"
          ]
        }
      ]
    },
    {
      "cell_type": "code",
      "source": [
        ""
      ],
      "metadata": {
        "id": "6b0Ot2jHF0Id"
      },
      "execution_count": null,
      "outputs": []
    },
    {
      "cell_type": "code",
      "source": [
        "from matplotlib import pyplot"
      ],
      "metadata": {
        "id": "aQ43NP-YdWud"
      },
      "execution_count": null,
      "outputs": []
    },
    {
      "cell_type": "code",
      "source": [
        "pyplot.title('Learning Curves')\n",
        "pyplot.xlabel('Epoch')\n",
        "pyplot.ylabel('Cross Entropy')\n",
        "pyplot.plot(history.history['loss'], label='train')\n",
        "pyplot.plot(history.history['val_loss'], label='val')\n",
        "pyplot.legend()\n",
        "pyplot.show()"
      ],
      "metadata": {
        "colab": {
          "base_uri": "https://localhost:8080/",
          "height": 295
        },
        "id": "sSQJTcvzdbBm",
        "outputId": "b710dec6-c41f-484c-fbe7-8679a90692a6"
      },
      "execution_count": null,
      "outputs": [
        {
          "output_type": "display_data",
          "data": {
            "image/png": "[encoded data removed]",
            "text/plain": [
              "<Figure size 432x288 with 1 Axes>"
            ]
          },
          "metadata": {
            "needs_background": "light"
          }
        }
      ]
    }
  ],
  "metadata": {
    "colab": {
      "name": "Train-model.ipynb",
      "provenance": [],
      "collapsed_sections": [],
      "mount_file_id": "149CeyADJd_wjIVMBJEejVqaJhhRQZW0m",
      "authorship_tag": "ABX9TyNOXsWdvXvfD1CTx1XbVMV1",
      "include_colab_link": true
    },
    "kernelspec": {
      "display_name": "Python 3",
      "name": "python3"
    },
    "language_info": {
      "name": "python"
    }
  },
  "nbformat": 4,
  "nbformat_minor": 0
}