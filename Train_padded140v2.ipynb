{
  "nbformat": 4,
  "nbformat_minor": 0,
  "metadata": {
    "colab": {
      "name": "Train_padded140.ipynb",
      "provenance": [],
      "collapsed_sections": [],
      "mount_file_id": "1Bw1yNDkhOzAK5IfkbLa-Qzw18kbSH2y3",
      "authorship_tag": "ABX9TyMjMMjBljhutLt8e3N3rVxK",
      "include_colab_link": true
    },
    "kernelspec": {
      "name": "python3",
      "display_name": "Python 3"
    },
    "language_info": {
      "name": "python"
    }
  },
  "cells": [
    {
      "cell_type": "markdown",
      "metadata": {
        "id": "view-in-github",
        "colab_type": "text"
      },
      "source": [
        "<a href=\"https://colab.research.google.com/github/tuanlym/DOANII/blob/main/Train_padded140v2.ipynb\" target=\"_parent\"><img src=\"https://colab.research.google.com/assets/colab-badge.svg\" alt=\"Open In Colab\"/></a>"
      ]
    },
    {
      "cell_type": "code",
      "execution_count": null,
      "metadata": {
        "colab": {
          "base_uri": "https://localhost:8080/"
        },
        "id": "UXA1rNAcfoxf",
        "outputId": "f7032d4d-0cc6-4e16-935f-4bdf40375911"
      },
      "outputs": [
        {
          "output_type": "stream",
          "name": "stdout",
          "text": [
            "Requirement already satisfied: keras in /usr/local/lib/python3.7/dist-packages (2.7.0)\n",
            "Collecting pyvi\n",
            "  Downloading pyvi-0.1.1-py2.py3-none-any.whl (8.5 MB)\n",
            "\u001b[K     |████████████████████████████████| 8.5 MB 4.6 MB/s \n",
            "\u001b[?25hRequirement already satisfied: scikit-learn in /usr/local/lib/python3.7/dist-packages (from pyvi) (1.0.2)\n",
            "Collecting sklearn-crfsuite\n",
            "  Downloading sklearn_crfsuite-0.3.6-py2.py3-none-any.whl (12 kB)\n",
            "Requirement already satisfied: numpy>=1.14.6 in /usr/local/lib/python3.7/dist-packages (from scikit-learn->pyvi) (1.19.5)\n",
            "Requirement already satisfied: scipy>=1.1.0 in /usr/local/lib/python3.7/dist-packages (from scikit-learn->pyvi) (1.4.1)\n",
            "Requirement already satisfied: joblib>=0.11 in /usr/local/lib/python3.7/dist-packages (from scikit-learn->pyvi) (1.1.0)\n",
            "Requirement already satisfied: threadpoolctl>=2.0.0 in /usr/local/lib/python3.7/dist-packages (from scikit-learn->pyvi) (3.1.0)\n",
            "Requirement already satisfied: six in /usr/local/lib/python3.7/dist-packages (from sklearn-crfsuite->pyvi) (1.15.0)\n",
            "Requirement already satisfied: tabulate in /usr/local/lib/python3.7/dist-packages (from sklearn-crfsuite->pyvi) (0.8.9)\n",
            "Collecting python-crfsuite>=0.8.3\n",
            "  Downloading python_crfsuite-0.9.7-cp37-cp37m-manylinux1_x86_64.whl (743 kB)\n",
            "\u001b[K     |████████████████████████████████| 743 kB 22.6 MB/s \n",
            "\u001b[?25hRequirement already satisfied: tqdm>=2.0 in /usr/local/lib/python3.7/dist-packages (from sklearn-crfsuite->pyvi) (4.62.3)\n",
            "Installing collected packages: python-crfsuite, sklearn-crfsuite, pyvi\n",
            "Successfully installed python-crfsuite-0.9.7 pyvi-0.1.1 sklearn-crfsuite-0.3.6\n",
            "Requirement already satisfied: pandas in /usr/local/lib/python3.7/dist-packages (1.3.5)\n",
            "Requirement already satisfied: pytz>=2017.3 in /usr/local/lib/python3.7/dist-packages (from pandas) (2018.9)\n",
            "Requirement already satisfied: numpy>=1.17.3 in /usr/local/lib/python3.7/dist-packages (from pandas) (1.19.5)\n",
            "Requirement already satisfied: python-dateutil>=2.7.3 in /usr/local/lib/python3.7/dist-packages (from pandas) (2.8.2)\n",
            "Requirement already satisfied: six>=1.5 in /usr/local/lib/python3.7/dist-packages (from python-dateutil>=2.7.3->pandas) (1.15.0)\n",
            "Requirement already satisfied: numpy in /usr/local/lib/python3.7/dist-packages (1.19.5)\n",
            "Requirement already satisfied: gensim in /usr/local/lib/python3.7/dist-packages (3.6.0)\n",
            "Requirement already satisfied: six>=1.5.0 in /usr/local/lib/python3.7/dist-packages (from gensim) (1.15.0)\n",
            "Requirement already satisfied: scipy>=0.18.1 in /usr/local/lib/python3.7/dist-packages (from gensim) (1.4.1)\n",
            "Requirement already satisfied: numpy>=1.11.3 in /usr/local/lib/python3.7/dist-packages (from gensim) (1.19.5)\n",
            "Requirement already satisfied: smart-open>=1.2.1 in /usr/local/lib/python3.7/dist-packages (from gensim) (5.2.1)\n"
          ]
        }
      ],
      "source": [
        "!pip install keras\n",
        "!pip install pyvi\n",
        "!pip install pandas\n",
        "!pip install numpy\n",
        "!pip install gensim"
      ]
    },
    {
      "cell_type": "code",
      "source": [
        "import gensim, re\n",
        "import numpy as np\n",
        "import pandas as pd\n",
        "import pickle\n",
        "import tensorflow as tf\n",
        "\n",
        "from os import listdir\n",
        "\n",
        "from sklearn.model_selection import train_test_split\n",
        "from keras.preprocessing.text import Tokenizer\n",
        "from keras.preprocessing.sequence import pad_sequences\n",
        "\n",
        "import sys\n",
        "import os\n",
        "from sklearn.metrics import ConfusionMatrixDisplay, confusion_matrix, classification_report\n",
        "from keras.regularizers import l1\n",
        "from keras.layers import Activation\n",
        "from keras.models import Sequential, load_model\n",
        "from keras.layers import LSTM, Dense, Embedding, Dropout, Flatten\n",
        "from pyvi import ViTokenizer\n",
        "from keras.preprocessing.text import Tokenizer\n",
        "from gensim.parsing.preprocessing import strip_non_alphanum, strip_multiple_whitespaces,preprocess_string, split_alphanum, strip_short, strip_numeric"
      ],
      "metadata": {
        "id": "t0PdJ7wpf0fj"
      },
      "execution_count": null,
      "outputs": []
    },
    {
      "cell_type": "code",
      "source": [
        ""
      ],
      "metadata": {
        "id": "Nka1hfR6f50i"
      },
      "execution_count": null,
      "outputs": []
    },
    {
      "cell_type": "code",
      "source": [
        "def clean_document(raw):\n",
        "    raw = ViTokenizer.tokenize(raw)\n",
        "    raw = strip_non_alphanum(raw).lower().strip()\n",
        "    raw = split_alphanum(raw)\n",
        "    raw = strip_short(raw, minsize=2)\n",
        "    raw = strip_numeric(raw)\n",
        "    tokens = raw.split()\n",
        "    return tokens"
      ],
      "metadata": {
        "id": "kL7BTkWTf6hr"
      },
      "execution_count": null,
      "outputs": []
    },
    {
      "cell_type": "code",
      "source": [
        "raw = \"! MỘt môn Học rất hay,,,, và bổ ích 456\"\n",
        "clean_document(raw)"
      ],
      "metadata": {
        "colab": {
          "base_uri": "https://localhost:8080/"
        },
        "id": "PM1-j_lODtsV",
        "outputId": "928efb55-b638-4d93-f816-1cd5b28d9b34"
      },
      "execution_count": null,
      "outputs": [
        {
          "output_type": "execute_result",
          "data": {
            "text/plain": [
              "['một', 'môn', 'học', 'rất', 'hay', 'và', 'bổ_ích']"
            ]
          },
          "metadata": {},
          "execution_count": 4
        }
      ]
    },
    {
      "cell_type": "code",
      "source": [
        "stop_word = ['bị', 'bởi', 'cả', 'các', 'cái', 'cần', 'càng', 'chỉ', 'chiếc', 'cho', 'chứ', 'chưa', 'chuyện', 'có', 'có_thể', 'cứ', 'của', 'cùng', 'cũng', 'đã', 'đang', 'đây', 'để', 'đến_nỗi', 'đều', 'điều', 'do', 'đó', 'được', 'dưới', 'gì', 'khi', 'không', 'là', 'lại', 'lên', 'lúc', 'mà', 'mỗi', 'một_cách', 'này', 'nên', 'nếu', 'ngay', 'nhiều', 'như', 'nhưng', 'những', 'nơi', 'nữa', 'phải', 'qua', 'ra', 'rằng', 'rằng', 'rất', 'rất', 'rồi', 'sau', 'sẽ', 'so', 'sự', 'tại', 'theo', 'thì', 'trên', 'trước', 'từ', 'từng', 'và', 'vẫn', 'vào', 'vậy', 'vì', 'việc', 'với', 'vừa', '!', '\"', '#', '$', '%', '&', \"'\", '(', ')', '*', '+', ',', '-', '.', '/', ':', ';', '<', '=', '>', '?', '@', '[', '\\\\', ']', '^', '_', '`', '{', '|', '}', '~']"
      ],
      "metadata": {
        "id": "59ij9RUOFbWb"
      },
      "execution_count": null,
      "outputs": []
    },
    {
      "cell_type": "code",
      "source": [
        "def remove_stopwords(line):\n",
        "    words = []\n",
        "    for word in line.strip().split():\n",
        "        if word not in stop_word:\n",
        "            words.append(word)\n",
        "    return ' '.join(words)\n",
        "    return line"
      ],
      "metadata": {
        "id": "DZHTHg5Jf79A"
      },
      "execution_count": null,
      "outputs": []
    },
    {
      "cell_type": "code",
      "source": [
        "line = \"Môn tiếng anh là môn học rất bổ ích\"\n",
        "remove_stopwords(line)"
      ],
      "metadata": {
        "colab": {
          "base_uri": "https://localhost:8080/",
          "height": 35
        },
        "id": "US2qOPxrFYpV",
        "outputId": "e64fad63-2262-4f2d-e1c0-9b192e480c18"
      },
      "execution_count": null,
      "outputs": [
        {
          "output_type": "execute_result",
          "data": {
            "application/vnd.google.colaboratory.intrinsic+json": {
              "type": "string"
            },
            "text/plain": [
              "'Môn tiếng anh môn học bổ ích'"
            ]
          },
          "metadata": {},
          "execution_count": 7
        }
      ]
    },
    {
      "cell_type": "code",
      "source": [
        "document = []\n",
        "with open('/content/drive/MyDrive/DOANII /train_sents.txt','r') as f:\n",
        "  data = f.readlines()\n",
        "for d in data:\n",
        "    document.append(d)\n",
        "with open('/content/drive/MyDrive/DOANII /test_sents.txt','r') as f:\n",
        "  data = f.readlines()\n",
        "for d in data:\n",
        "    document.append(d)\n",
        "len(document)"
      ],
      "metadata": {
        "colab": {
          "base_uri": "https://localhost:8080/"
        },
        "id": "K9Dm0wgUf-SL",
        "outputId": "0ebeff9f-7f1d-494b-e30c-4ef2dacb0479"
      },
      "execution_count": null,
      "outputs": [
        {
          "output_type": "execute_result",
          "data": {
            "text/plain": [
              "14592"
            ]
          },
          "metadata": {},
          "execution_count": 8
        }
      ]
    },
    {
      "cell_type": "code",
      "source": [
        "labels_data = []\n",
        "with open('/content/drive/MyDrive/DOANII /train_sentiments.txt','r') as f:\n",
        "  label_train = f.readlines()\n",
        "for line in label_train:\n",
        "  labels_data.append(line.strip())\n",
        "with open('/content/drive/MyDrive/DOANII /test_sentiments.txt','r') as f:\n",
        "  label_train = f.readlines()\n",
        "for line in label_train:\n",
        "  labels_data.append(line.strip())\n",
        "len(labels_data)"
      ],
      "metadata": {
        "colab": {
          "base_uri": "https://localhost:8080/"
        },
        "id": "eQWrG02tgIr-",
        "outputId": "d5ca423d-4ed7-467b-c8cd-d3e5b2dd7729"
      },
      "execution_count": null,
      "outputs": [
        {
          "output_type": "execute_result",
          "data": {
            "text/plain": [
              "14592"
            ]
          },
          "metadata": {},
          "execution_count": 9
        }
      ]
    },
    {
      "cell_type": "code",
      "source": [
        "sentences = []\n",
        "for d in document:\n",
        "  d = ViTokenizer.tokenize(d)\n",
        "  d = remove_stopwords(d)\n",
        "  sentences.append(clean_document(d))\n",
        "#sentences\n"
      ],
      "metadata": {
        "id": "kGeJzKANgOk_"
      },
      "execution_count": null,
      "outputs": []
    },
    {
      "cell_type": "code",
      "source": [
        "labels = []\n",
        "for i in range(0,len(labels_data)):\n",
        "  if labels_data[i] == '0':\n",
        "     labels.append((1,0,0))\n",
        "  elif labels_data[i] == '1':\n",
        "     labels.append((0,1,0))\n",
        "  else:\n",
        "     labels.append((0,0,1))\n",
        "labels = pd.get_dummies(labels)\n",
        "labels"
      ],
      "metadata": {
        "colab": {
          "base_uri": "https://localhost:8080/",
          "height": 423
        },
        "id": "Ais0mV1ngQag",
        "outputId": "4d373777-0f4a-4e3a-96eb-b999ad816f85"
      },
      "execution_count": null,
      "outputs": [
        {
          "output_type": "execute_result",
          "data": {
            "text/html": [
              "\n",
              "  <div id=\"df-3934dc5a-b562-4f06-9a24-8a7f0e658365\">\n",
              "    <div class=\"colab-df-container\">\n",
              "      <div>\n",
              "<style scoped>\n",
              "    .dataframe tbody tr th:only-of-type {\n",
              "        vertical-align: middle;\n",
              "    }\n",
              "\n",
              "    .dataframe tbody tr th {\n",
              "        vertical-align: top;\n",
              "    }\n",
              "\n",
              "    .dataframe thead th {\n",
              "        text-align: right;\n",
              "    }\n",
              "</style>\n",
              "<table border=\"1\" class=\"dataframe\">\n",
              "  <thead>\n",
              "    <tr style=\"text-align: right;\">\n",
              "      <th></th>\n",
              "      <th>(0, 0, 1)</th>\n",
              "      <th>(0, 1, 0)</th>\n",
              "      <th>(1, 0, 0)</th>\n",
              "    </tr>\n",
              "  </thead>\n",
              "  <tbody>\n",
              "    <tr>\n",
              "      <th>0</th>\n",
              "      <td>1</td>\n",
              "      <td>0</td>\n",
              "      <td>0</td>\n",
              "    </tr>\n",
              "    <tr>\n",
              "      <th>1</th>\n",
              "      <td>1</td>\n",
              "      <td>0</td>\n",
              "      <td>0</td>\n",
              "    </tr>\n",
              "    <tr>\n",
              "      <th>2</th>\n",
              "      <td>0</td>\n",
              "      <td>0</td>\n",
              "      <td>1</td>\n",
              "    </tr>\n",
              "    <tr>\n",
              "      <th>3</th>\n",
              "      <td>0</td>\n",
              "      <td>0</td>\n",
              "      <td>1</td>\n",
              "    </tr>\n",
              "    <tr>\n",
              "      <th>4</th>\n",
              "      <td>1</td>\n",
              "      <td>0</td>\n",
              "      <td>0</td>\n",
              "    </tr>\n",
              "    <tr>\n",
              "      <th>...</th>\n",
              "      <td>...</td>\n",
              "      <td>...</td>\n",
              "      <td>...</td>\n",
              "    </tr>\n",
              "    <tr>\n",
              "      <th>14587</th>\n",
              "      <td>0</td>\n",
              "      <td>0</td>\n",
              "      <td>1</td>\n",
              "    </tr>\n",
              "    <tr>\n",
              "      <th>14588</th>\n",
              "      <td>1</td>\n",
              "      <td>0</td>\n",
              "      <td>0</td>\n",
              "    </tr>\n",
              "    <tr>\n",
              "      <th>14589</th>\n",
              "      <td>1</td>\n",
              "      <td>0</td>\n",
              "      <td>0</td>\n",
              "    </tr>\n",
              "    <tr>\n",
              "      <th>14590</th>\n",
              "      <td>0</td>\n",
              "      <td>0</td>\n",
              "      <td>1</td>\n",
              "    </tr>\n",
              "    <tr>\n",
              "      <th>14591</th>\n",
              "      <td>0</td>\n",
              "      <td>1</td>\n",
              "      <td>0</td>\n",
              "    </tr>\n",
              "  </tbody>\n",
              "</table>\n",
              "<p>14592 rows × 3 columns</p>\n",
              "</div>\n",
              "      <button class=\"colab-df-convert\" onclick=\"convertToInteractive('df-3934dc5a-b562-4f06-9a24-8a7f0e658365')\"\n",
              "              title=\"Convert this dataframe to an interactive table.\"\n",
              "              style=\"display:none;\">\n",
              "        \n",
              "  <svg xmlns=\"http://www.w3.org/2000/svg\" height=\"24px\"viewBox=\"0 0 24 24\"\n",
              "       width=\"24px\">\n",
              "    <path d=\"M0 0h24v24H0V0z\" fill=\"none\"/>\n",
              "    <path d=\"M18.56 5.44l.94 2.06.94-2.06 2.06-.94-2.06-.94-.94-2.06-.94 2.06-2.06.94zm-11 1L8.5 8.5l.94-2.06 2.06-.94-2.06-.94L8.5 2.5l-.94 2.06-2.06.94zm10 10l.94 2.06.94-2.06 2.06-.94-2.06-.94-.94-2.06-.94 2.06-2.06.94z\"/><path d=\"M17.41 7.96l-1.37-1.37c-.4-.4-.92-.59-1.43-.59-.52 0-1.04.2-1.43.59L10.3 9.45l-7.72 7.72c-.78.78-.78 2.05 0 2.83L4 21.41c.39.39.9.59 1.41.59.51 0 1.02-.2 1.41-.59l7.78-7.78 2.81-2.81c.8-.78.8-2.07 0-2.86zM5.41 20L4 18.59l7.72-7.72 1.47 1.35L5.41 20z\"/>\n",
              "  </svg>\n",
              "      </button>\n",
              "      \n",
              "  <style>\n",
              "    .colab-df-container {\n",
              "      display:flex;\n",
              "      flex-wrap:wrap;\n",
              "      gap: 12px;\n",
              "    }\n",
              "\n",
              "    .colab-df-convert {\n",
              "      background-color: #E8F0FE;\n",
              "      border: none;\n",
              "      border-radius: 50%;\n",
              "      cursor: pointer;\n",
              "      display: none;\n",
              "      fill: #1967D2;\n",
              "      height: 32px;\n",
              "      padding: 0 0 0 0;\n",
              "      width: 32px;\n",
              "    }\n",
              "\n",
              "    .colab-df-convert:hover {\n",
              "      background-color: #E2EBFA;\n",
              "      box-shadow: 0px 1px 2px rgba(60, 64, 67, 0.3), 0px 1px 3px 1px rgba(60, 64, 67, 0.15);\n",
              "      fill: #174EA6;\n",
              "    }\n",
              "\n",
              "    [theme=dark] .colab-df-convert {\n",
              "      background-color: #3B4455;\n",
              "      fill: #D2E3FC;\n",
              "    }\n",
              "\n",
              "    [theme=dark] .colab-df-convert:hover {\n",
              "      background-color: #434B5C;\n",
              "      box-shadow: 0px 1px 3px 1px rgba(0, 0, 0, 0.15);\n",
              "      filter: drop-shadow(0px 1px 2px rgba(0, 0, 0, 0.3));\n",
              "      fill: #FFFFFF;\n",
              "    }\n",
              "  </style>\n",
              "\n",
              "      <script>\n",
              "        const buttonEl =\n",
              "          document.querySelector('#df-3934dc5a-b562-4f06-9a24-8a7f0e658365 button.colab-df-convert');\n",
              "        buttonEl.style.display =\n",
              "          google.colab.kernel.accessAllowed ? 'block' : 'none';\n",
              "\n",
              "        async function convertToInteractive(key) {\n",
              "          const element = document.querySelector('#df-3934dc5a-b562-4f06-9a24-8a7f0e658365');\n",
              "          const dataTable =\n",
              "            await google.colab.kernel.invokeFunction('convertToInteractive',\n",
              "                                                     [key], {});\n",
              "          if (!dataTable) return;\n",
              "\n",
              "          const docLinkHtml = 'Like what you see? Visit the ' +\n",
              "            '<a target=\"_blank\" href=https://colab.research.google.com/notebooks/data_table.ipynb>data table notebook</a>'\n",
              "            + ' to learn more about interactive tables.';\n",
              "          element.innerHTML = '';\n",
              "          dataTable['output_type'] = 'display_data';\n",
              "          await google.colab.output.renderOutput(dataTable, element);\n",
              "          const docLink = document.createElement('div');\n",
              "          docLink.innerHTML = docLinkHtml;\n",
              "          element.appendChild(docLink);\n",
              "        }\n",
              "      </script>\n",
              "    </div>\n",
              "  </div>\n",
              "  "
            ],
            "text/plain": [
              "       (0, 0, 1)  (0, 1, 0)  (1, 0, 0)\n",
              "0              1          0          0\n",
              "1              1          0          0\n",
              "2              0          0          1\n",
              "3              0          0          1\n",
              "4              1          0          0\n",
              "...          ...        ...        ...\n",
              "14587          0          0          1\n",
              "14588          1          0          0\n",
              "14589          1          0          0\n",
              "14590          0          0          1\n",
              "14591          0          1          0\n",
              "\n",
              "[14592 rows x 3 columns]"
            ]
          },
          "metadata": {},
          "execution_count": 11
        }
      ]
    },
    {
      "cell_type": "code",
      "source": [
        "x_train, x_test, y_train, y_test = train_test_split(sentences, labels, test_size=0.3, shuffle=True)\n",
        "x_train = np.array(x_train)\n",
        "y_train = np.array(y_train)\n",
        "x_test = np.array(x_test)\n",
        "y_test = np.array(y_test)"
      ],
      "metadata": {
        "colab": {
          "base_uri": "https://localhost:8080/"
        },
        "id": "QbBoyBOghmNb",
        "outputId": "03274202-98cc-4bea-d523-6e1c4970c697"
      },
      "execution_count": null,
      "outputs": [
        {
          "output_type": "stream",
          "name": "stderr",
          "text": [
            "/usr/local/lib/python3.7/dist-packages/ipykernel_launcher.py:2: VisibleDeprecationWarning: Creating an ndarray from ragged nested sequences (which is a list-or-tuple of lists-or-tuples-or ndarrays with different lengths or shapes) is deprecated. If you meant to do this, you must specify 'dtype=object' when creating the ndarray\n",
            "  \n",
            "/usr/local/lib/python3.7/dist-packages/ipykernel_launcher.py:4: VisibleDeprecationWarning: Creating an ndarray from ragged nested sequences (which is a list-or-tuple of lists-or-tuples-or ndarrays with different lengths or shapes) is deprecated. If you meant to do this, you must specify 'dtype=object' when creating the ndarray\n",
            "  after removing the cwd from sys.path.\n"
          ]
        }
      ]
    },
    {
      "cell_type": "code",
      "source": [
        "word_model = gensim.models.Word2Vec(x_train, size=300, window = 10, min_count=1, iter=10)"
      ],
      "metadata": {
        "id": "Re-raEy8q6DD"
      },
      "execution_count": null,
      "outputs": []
    },
    {
      "cell_type": "code",
      "source": [
        "word_model.wv.save_word2vec_format('/content/drive/MyDrive/DOANII /vnw2v.txt', fvocab=None, binary=False)\n"
      ],
      "metadata": {
        "id": "W8fAm7Pzq_bg"
      },
      "execution_count": null,
      "outputs": []
    },
    {
      "cell_type": "code",
      "source": [
        "from google.colab import drive\n",
        "drive.mount('/content/drive')"
      ],
      "metadata": {
        "colab": {
          "base_uri": "https://localhost:8080/"
        },
        "id": "rPwL2NZih0JU",
        "outputId": "7493c121-0f96-4f41-d0c0-ed6eb673a3f4"
      },
      "execution_count": null,
      "outputs": [
        {
          "output_type": "stream",
          "name": "stdout",
          "text": [
            "Drive already mounted at /content/drive; to attempt to forcibly remount, call drive.mount(\"/content/drive\", force_remount=True).\n"
          ]
        }
      ]
    },
    {
      "cell_type": "code",
      "source": [
        "tokenizer = Tokenizer(filters='!\"#$%&()*+,-./:;<=>?@[\\]^`{|}~ ')\n",
        "tokenizer.fit_on_texts(x_train)\n",
        "tokenizer.word_index\n"
      ],
      "metadata": {
        "colab": {
          "base_uri": "https://localhost:8080/"
        },
        "id": "G4DyXFqigT9h",
        "outputId": "8df6eee4-f402-49fc-a40f-8609e3709d8b"
      },
      "execution_count": null,
      "outputs": [
        {
          "output_type": "execute_result",
          "data": {
            "text/plain": [
              "{'thầy': 1,\n",
              " 'sinh_viên': 2,\n",
              " 'dạy': 3,\n",
              " 'nhiệt_tình': 4,\n",
              " 'hiểu': 5,\n",
              " 'giảng_viên': 6,\n",
              " 'học': 7,\n",
              " 'dễ': 8,\n",
              " 'cô': 9,\n",
              " 'bài': 10,\n",
              " 'giảng': 11,\n",
              " 'bài_tập': 12,\n",
              " 'hơn': 13,\n",
              " 'giảng_dạy': 14,\n",
              " 'em': 15,\n",
              " 'hay': 16,\n",
              " 'kiến_thức': 17,\n",
              " 'thực_hành': 18,\n",
              " 'trong': 19,\n",
              " 'tốt': 20,\n",
              " 'môn_học': 21,\n",
              " 'làm': 22,\n",
              " 'về': 23,\n",
              " 'lớp': 24,\n",
              " 'quá': 25,\n",
              " 'khó': 26,\n",
              " 'tận_tâm': 27,\n",
              " 'truyền_đạt': 28,\n",
              " 'cách': 29,\n",
              " 'giáo_viên': 30,\n",
              " 'giờ': 31,\n",
              " 'còn': 32,\n",
              " 'đến': 33,\n",
              " 'hơi': 34,\n",
              " 'thời_gian': 35,\n",
              " 'lý_thuyết': 36,\n",
              " 'tận_tình': 37,\n",
              " 'thêm': 38,\n",
              " 'nội_dung': 39,\n",
              " 'nói': 40,\n",
              " 'phòng': 41,\n",
              " 'hướng_dẫn': 42,\n",
              " 'một': 43,\n",
              " 'môn': 44,\n",
              " 'khá': 45,\n",
              " 'thi': 46,\n",
              " 'vui_vẻ': 47,\n",
              " 'học_sinh': 48,\n",
              " 'vui_tính': 49,\n",
              " 'slide': 50,\n",
              " 'phần': 51,\n",
              " 'ví_dụ': 52,\n",
              " 'giúp': 53,\n",
              " 'tạo': 54,\n",
              " 'đi': 55,\n",
              " 'lên_lớp': 56,\n",
              " 'đúng': 57,\n",
              " 'tài_liệu': 58,\n",
              " 'buổi': 59,\n",
              " 'điểm': 60,\n",
              " 'hiệu_quả': 61,\n",
              " 'nhanh': 62,\n",
              " 'thực_tế': 63,\n",
              " 'đầy_đủ': 64,\n",
              " 'phương_pháp': 65,\n",
              " 'wzjwz': 66,\n",
              " 'luôn': 67,\n",
              " 'tiếp_thu': 68,\n",
              " 'mới': 69,\n",
              " 'ít': 70,\n",
              " 'đồ_án': 71,\n",
              " 'học_tập': 72,\n",
              " 'nghe': 73,\n",
              " 'tiết': 74,\n",
              " 'cao': 75,\n",
              " 'kỹ': 76,\n",
              " 'anh': 77,\n",
              " 'vấn_đề': 78,\n",
              " 'tiếng': 79,\n",
              " 'cung_cấp': 80,\n",
              " 'biết': 81,\n",
              " 'rõ': 82,\n",
              " 'khả_năng': 83,\n",
              " 'quan_tâm': 84,\n",
              " 'khác': 85,\n",
              " 'kỳ': 86,\n",
              " 'hỏi': 87,\n",
              " 'nghỉ': 88,\n",
              " 'thắc_mắc': 89,\n",
              " 'chi_tiết': 90,\n",
              " 'mong': 91,\n",
              " 'sử_dụng': 92,\n",
              " 'cụ_thể': 93,\n",
              " 'nhóm': 94,\n",
              " 'đưa': 95,\n",
              " 'bạn': 96,\n",
              " 'đảm_bảo': 97,\n",
              " 'giải_đáp': 98,\n",
              " 'đề': 99,\n",
              " 'thường_xuyên': 100,\n",
              " 'chất_lượng': 101,\n",
              " 'thấy': 102,\n",
              " 'gây': 103,\n",
              " 'tự': 104,\n",
              " 'thực_tiễn': 105,\n",
              " 'rõ_ràng': 106,\n",
              " 'thân_thiện': 107,\n",
              " 'chương_trình': 108,\n",
              " 'giúp_đỡ': 109,\n",
              " 'thiết_bị': 110,\n",
              " 'nhà': 111,\n",
              " 'người': 112,\n",
              " 'cuối': 113,\n",
              " 'máy': 114,\n",
              " 'bài_học': 115,\n",
              " 'sát': 116,\n",
              " 'tới': 117,\n",
              " 'giải': 118,\n",
              " 'cập_nhật': 119,\n",
              " 'tâm_huyết': 120,\n",
              " 'hài_lòng': 121,\n",
              " 'một_số': 122,\n",
              " 'câu': 123,\n",
              " 'chúng': 124,\n",
              " 'nào': 125,\n",
              " 'hứng_thú': 126,\n",
              " 'kỹ_năng': 127,\n",
              " 'phù_hợp': 128,\n",
              " 'thông_báo': 129,\n",
              " 'hoạt_động': 130,\n",
              " 'mình': 131,\n",
              " 'hết': 132,\n",
              " 'trường': 133,\n",
              " 'nhất': 134,\n",
              " 'máy_chiếu': 135,\n",
              " 'quá_trình': 136,\n",
              " 'đủ': 137,\n",
              " 'thoải_mái': 138,\n",
              " 'giáo_trình': 139,\n",
              " 'giữa': 140,\n",
              " 'tính': 141,\n",
              " 'trễ': 142,\n",
              " 'chấm': 143,\n",
              " 'gần_gũi': 144,\n",
              " 'doubledot': 145,\n",
              " 'trả_lời': 146,\n",
              " 'nghĩ': 147,\n",
              " 'vui': 148,\n",
              " 'ngoài': 149,\n",
              " 'nâng': 150,\n",
              " 'thường': 151,\n",
              " 'đọc': 152,\n",
              " 'hợp_lý': 153,\n",
              " 'code': 154,\n",
              " 'hỗ_trợ': 155,\n",
              " 'kiểm_tra': 156,\n",
              " 'hoặc': 157,\n",
              " 'sửa': 158,\n",
              " 'kinh_nghiệm': 159,\n",
              " 'tập_trung': 160,\n",
              " 'áp_dụng': 161,\n",
              " 'nắm': 162,\n",
              " 'chậm': 163,\n",
              " 'tuần': 164,\n",
              " 'buồn_ngủ': 165,\n",
              " 'tăng': 166,\n",
              " 'đối_với': 167,\n",
              " 'bằng': 168,\n",
              " 'dễ_thương': 169,\n",
              " 'hình_thức': 170,\n",
              " 'số': 171,\n",
              " 'nhiệt_huyết': 172,\n",
              " 'lắm': 173,\n",
              " 'thông_tin': 174,\n",
              " 'gần': 175,\n",
              " 'giải_thích': 176,\n",
              " 'nhà_trường': 177,\n",
              " 'hệ_thống': 178,\n",
              " 'nhỏ': 179,\n",
              " 'lần': 180,\n",
              " 'thuyết_trình': 181,\n",
              " 'thiếu': 182,\n",
              " 'mọi': 183,\n",
              " 'tâm': 184,\n",
              " 'giọng': 185,\n",
              " 'liên_quan': 186,\n",
              " 'báo_cáo': 187,\n",
              " 'kịp': 188,\n",
              " 'lớp_học': 189,\n",
              " 'tụi': 190,\n",
              " 'trình_bày': 191,\n",
              " 'ý_kiến': 192,\n",
              " 'liên_hệ': 193,\n",
              " 'yêu_cầu': 194,\n",
              " 'làm_việc': 195,\n",
              " 'lịch': 196,\n",
              " 'khó_khăn': 197,\n",
              " 'nhau': 198,\n",
              " 'tương_tác': 199,\n",
              " 'nhàm_chán': 200,\n",
              " 'máy_tính': 201,\n",
              " 'bù': 202,\n",
              " 'đôi_khi': 203,\n",
              " 'moodle': 204,\n",
              " 'đánh_giá': 205,\n",
              " 'học_kỳ': 206,\n",
              " 'sinh_động': 207,\n",
              " 'tích_cực': 208,\n",
              " 'thích': 209,\n",
              " 'khiến': 210,\n",
              " 'gặp': 211,\n",
              " 'tìm_hiểu': 212,\n",
              " 'lập_trình': 213,\n",
              " 'cảm_thấy': 214,\n",
              " 'sâu': 215,\n",
              " 'ứng_dụng': 216,\n",
              " 'hòa': 217,\n",
              " 'không_thể': 218,\n",
              " 'nhìn': 219,\n",
              " 'đồng': 220,\n",
              " 'thứ': 221,\n",
              " 'viết': 222,\n",
              " 'mạng': 223,\n",
              " 'thu_hút': 224,\n",
              " 'cần_thiết': 225,\n",
              " 'bổ_ích': 226,\n",
              " 'dẫn': 227,\n",
              " 'cải_thiện': 228,\n",
              " 'lấy': 229,\n",
              " 'mang': 230,\n",
              " 'bảng': 231,\n",
              " 'cơ_bản': 232,\n",
              " 'thay_đổi': 233,\n",
              " 'nâng_cấp': 234,\n",
              " 'mất': 235,\n",
              " 'điểm_danh': 236,\n",
              " 'tất_cả': 237,\n",
              " 'nắm_bắt': 238,\n",
              " 'chỗ': 239,\n",
              " 'ôn_tập': 240,\n",
              " 'trang': 241,\n",
              " 'dạy_học': 242,\n",
              " 'cảm_ơn': 243,\n",
              " 'công_việc': 244,\n",
              " 'thực_sự': 245,\n",
              " 'thật_sự': 246,\n",
              " 'giảm': 247,\n",
              " 'chuẩn_bị': 248,\n",
              " 'trang_bị': 249,\n",
              " 'thật': 250,\n",
              " 'bên': 251,\n",
              " 'trọng_tâm': 252,\n",
              " 'lab': 253,\n",
              " 'chủ_động': 254,\n",
              " 'bám': 255,\n",
              " 'trao_đổi': 256,\n",
              " 'tham_khảo': 257,\n",
              " 'như_vậy': 258,\n",
              " 'sai': 259,\n",
              " 'đầu': 260,\n",
              " 'dùng': 261,\n",
              " 'bọn': 262,\n",
              " 'cơ_sở': 263,\n",
              " 'hài_hước': 264,\n",
              " 'không_khí': 265,\n",
              " 'tránh': 266,\n",
              " 'thú_vị': 267,\n",
              " 'chu_đáo': 268,\n",
              " 'ngày': 269,\n",
              " 'ngồi': 270,\n",
              " 'sớm': 271,\n",
              " 'nộp': 272,\n",
              " 'văn': 273,\n",
              " 'hiền': 274,\n",
              " 'nó': 275,\n",
              " 'sắp_xếp': 276,\n",
              " 'xem': 277,\n",
              " 'chán': 278,\n",
              " 'quan_trọng': 279,\n",
              " 'áp_lực': 280,\n",
              " 'chuyên_môn': 281,\n",
              " 'cũ': 282,\n",
              " 'tăng_cường': 283,\n",
              " 'kém': 284,\n",
              " 'xong': 285,\n",
              " 'đôi': 286,\n",
              " 'giao_tiếp': 287,\n",
              " 'giỏi': 288,\n",
              " 'cảm_giác': 289,\n",
              " 'dễ_dàng': 290,\n",
              " 'lỗi': 291,\n",
              " 'kết_quả': 292,\n",
              " 'tôi': 293,\n",
              " 'hướng': 294,\n",
              " 'xin': 295,\n",
              " 'điều_kiện': 296,\n",
              " 'năm': 297,\n",
              " 'ai': 298,\n",
              " 'muốn': 299,\n",
              " 'phần_mềm': 300,\n",
              " 'chia_sẻ': 301,\n",
              " 'tiếp_cận': 302,\n",
              " 'đề_cương': 303,\n",
              " 'tuyệt_vời': 304,\n",
              " 'mặc_dù': 305,\n",
              " 'hoàn_toàn': 306,\n",
              " 'khoa': 307,\n",
              " 'chính': 308,\n",
              " 'báo': 309,\n",
              " 'tuy_nhiên': 310,\n",
              " 'bắt': 311,\n",
              " 'nghiên_cứu': 312,\n",
              " 'công_nghệ': 313,\n",
              " 'nhớ': 314,\n",
              " 'dạng': 315,\n",
              " 'nói_chuyện': 316,\n",
              " 'mở_rộng': 317,\n",
              " 'lớn': 318,\n",
              " 'riêng': 319,\n",
              " 'đề_nghị': 320,\n",
              " 'vận_dụng': 321,\n",
              " 'vài': 322,\n",
              " 'deadline': 323,\n",
              " 'ngành': 324,\n",
              " 'đáp_ứng': 325,\n",
              " 'thay_vì': 326,\n",
              " 'bỏ': 327,\n",
              " 'công_bằng': 328,\n",
              " 'chép': 329,\n",
              " 'mờ': 330,\n",
              " 'micro': 331,\n",
              " 'đặc_biệt': 332,\n",
              " 'vật_chất': 333,\n",
              " 'rộng': 334,\n",
              " 'minh_họa': 335,\n",
              " 'thôi': 336,\n",
              " 'số_lượng': 337,\n",
              " 'phát_âm': 338,\n",
              " 'mail': 339,\n",
              " 'dù': 340,\n",
              " 'trình_độ': 341,\n",
              " 'chú_trọng': 342,\n",
              " 'khoảng': 343,\n",
              " 'toàn': 344,\n",
              " 'sáng_tạo': 345,\n",
              " 'hy_vọng': 346,\n",
              " 'mở': 347,\n",
              " 'tận_tụy': 348,\n",
              " 'nóng': 349,\n",
              " 'hạn_chế': 350,\n",
              " 'khóa': 351,\n",
              " 'sau_này': 352,\n",
              " 'việt': 353,\n",
              " 'nặng': 354,\n",
              " 'cực_kỳ': 355,\n",
              " 'giống': 356,\n",
              " 'muộn': 357,\n",
              " 'bổ_sung': 358,\n",
              " 'phút': 359,\n",
              " 'chính_xác': 360,\n",
              " 'sao': 361,\n",
              " 'chạy': 362,\n",
              " 'seminar': 363,\n",
              " 'dài': 364,\n",
              " 'chuyên_ngành': 365,\n",
              " 'bận': 366,\n",
              " 'dễ_tính': 367,\n",
              " 'tổ_chức': 368,\n",
              " 'kết_hợp': 369,\n",
              " 'yếu': 370,\n",
              " 'ảnh_hưởng': 371,\n",
              " 'cố_gắng': 372,\n",
              " 'nhận': 373,\n",
              " 'chỉ_bảo': 374,\n",
              " 'thời_lượng': 375,\n",
              " 'đi_sâu': 376,\n",
              " 'đào_tạo': 377,\n",
              " 'thực_hiện': 378,\n",
              " 'mặt': 379,\n",
              " 'giới_thiệu': 380,\n",
              " 'định_hướng': 381,\n",
              " 'mấy': 382,\n",
              " 'đạt': 383,\n",
              " 'thay': 384,\n",
              " 'mẫu': 385,\n",
              " 'sôi_nổi': 386,\n",
              " 'chuẩn': 387,\n",
              " 'lan_man': 388,\n",
              " 'tâm_lý': 389,\n",
              " 'mơ_hồ': 390,\n",
              " 'website': 391,\n",
              " 'chỉ_dẫn': 392,\n",
              " 'chuyên_sâu': 393,\n",
              " 'hoàn_thành': 394,\n",
              " 'đa_dạng': 395,\n",
              " 'hiện_tại': 396,\n",
              " 'kỹ_càng': 397,\n",
              " 'thế': 398,\n",
              " 'liên_tục': 399,\n",
              " 'thảo_luận': 400,\n",
              " 'gửi': 401,\n",
              " 'đặt': 402,\n",
              " 'nêu': 403,\n",
              " 'hầu_như': 404,\n",
              " 'tìm': 405,\n",
              " 'lâu': 406,\n",
              " 'demo': 407,\n",
              " 'sách': 408,\n",
              " 'hai': 409,\n",
              " 'giao': 410,\n",
              " 'kể': 411,\n",
              " 'up': 412,\n",
              " 'chữ': 413,\n",
              " 'ngôn_ngữ': 414,\n",
              " 'giải_quyết': 415,\n",
              " 'truyền_cảm_hứng': 416,\n",
              " 'rèn_luyện': 417,\n",
              " 'hấp_dẫn': 418,\n",
              " 'tốn': 419,\n",
              " 'đơn_giản': 420,\n",
              " 'ngữ_pháp': 421,\n",
              " 'lắng_nghe': 422,\n",
              " 'cộng': 423,\n",
              " 'ngắn_gọn': 424,\n",
              " 'fraction': 425,\n",
              " 'chương': 426,\n",
              " 'chung': 427,\n",
              " 'bắt_đầu': 428,\n",
              " 'đa_số': 429,\n",
              " 'năng_động': 430,\n",
              " 'thái_độ': 431,\n",
              " 'phong_cách': 432,\n",
              " 'chút': 433,\n",
              " 'thương': 434,\n",
              " 'trực_tiếp': 435,\n",
              " 'cảm_hứng': 436,\n",
              " 'công_tác': 437,\n",
              " 'quạt': 438,\n",
              " 'diễn_đạt': 439,\n",
              " 'giảng_giải': 440,\n",
              " 'trường_hợp': 441,\n",
              " 'đừng': 442,\n",
              " 'tuy': 443,\n",
              " 'chú_ý': 444,\n",
              " 'lượng': 445,\n",
              " 'dễ_chịu': 446,\n",
              " 'động_lực': 447,\n",
              " 'chia': 448,\n",
              " 'nghiêm_túc': 449,\n",
              " 'khó_tính': 450,\n",
              " 'đề_tài': 451,\n",
              " 'thống_nhất': 452,\n",
              " 'chủ_yếu': 453,\n",
              " 'colonsmile': 454,\n",
              " 'kết_thúc': 455,\n",
              " 'bớt': 456,\n",
              " 'lôi_cuốn': 457,\n",
              " 'sẵn_sàng': 458,\n",
              " 'một_chút': 459,\n",
              " 'sơ_sài': 460,\n",
              " 'đông': 461,\n",
              " 'cơ_hội': 462,\n",
              " 'video': 463,\n",
              " 'khô_khan': 464,\n",
              " 'theo_dõi': 465,\n",
              " 'ngắn': 466,\n",
              " 'chẳng': 467,\n",
              " 'kỹ_lưỡng': 468,\n",
              " 'kiểu': 469,\n",
              " 'hôm': 470,\n",
              " 'ổn': 471,\n",
              " 'bao_giờ': 472,\n",
              " 'loa': 473,\n",
              " 'phong_phú': 474,\n",
              " 'khoa_học': 475,\n",
              " 'đâu': 476,\n",
              " 'thế_nào': 477,\n",
              " 'âm_thanh': 478,\n",
              " 'ngoài_ra': 479,\n",
              " 'nói_chung': 480,\n",
              " 'chắc': 481,\n",
              " 'tình_trạng': 482,\n",
              " 'ôn': 483,\n",
              " 'phân_bổ': 484,\n",
              " 'dành': 485,\n",
              " 'tham_gia': 486,\n",
              " 'đầu_tư': 487,\n",
              " 'lướt': 488,\n",
              " 'tư_duy': 489,\n",
              " 'một_vài': 490,\n",
              " 'trách_nhiệm': 491,\n",
              " 'hữu_ích': 492,\n",
              " 'trò_chơi': 493,\n",
              " 'luyện': 494,\n",
              " 'mục_tiêu': 495,\n",
              " 'cá_nhân': 496,\n",
              " 'tiến_độ': 497,\n",
              " 'nghiêm_khắc': 498,\n",
              " 'củng_cố': 499,\n",
              " 'phân_bố': 500,\n",
              " 'đứng': 501,\n",
              " 'cải_tiến': 502,\n",
              " 'wifi': 503,\n",
              " 'truyền': 504,\n",
              " 'game': 505,\n",
              " 'tệ': 506,\n",
              " 'nói_nhỏ': 507,\n",
              " 'bụi': 508,\n",
              " 'trực_quan': 509,\n",
              " 'cô_giáo': 510,\n",
              " 'hiện_nay': 511,\n",
              " 'quản_lý': 512,\n",
              " 'thiết_thực': 513,\n",
              " 'thầy_giáo': 514,\n",
              " 'tốc_độ': 515,\n",
              " 'dot': 516,\n",
              " 'bước': 517,\n",
              " 'nhờ': 518,\n",
              " 'mục_đích': 519,\n",
              " 'cứng_nhắc': 520,\n",
              " 'xem_lại': 521,\n",
              " 'nghề_nghiệp': 522,\n",
              " 'cám_ơn': 523,\n",
              " 'chiếu': 524,\n",
              " 'visual': 525,\n",
              " 'cuốn_hút': 526,\n",
              " 'sang': 527,\n",
              " 'tương_lai': 528,\n",
              " 'ghi': 529,\n",
              " 'quên': 530,\n",
              " 'thụ_động': 531,\n",
              " 'bài_toán': 532,\n",
              " 'mức_độ': 533,\n",
              " 'vô_cùng': 534,\n",
              " 'yêu': 535,\n",
              " 'bộ_môn': 536,\n",
              " 'vắng': 537,\n",
              " 'thời': 538,\n",
              " 'hư': 539,\n",
              " 'cực': 540,\n",
              " 'sợ': 541,\n",
              " 'mạch': 542,\n",
              " 'hề': 543,\n",
              " 'chúc': 544,\n",
              " 'chữa': 545,\n",
              " 'phân_tích': 546,\n",
              " 'thuật_toán': 547,\n",
              " 'xa': 548,\n",
              " 'truyền_tải': 549,\n",
              " 'dữ_liệu': 550,\n",
              " 'thiết_kế': 551,\n",
              " 'giờ_giấc': 552,\n",
              " 'căn_bản': 553,\n",
              " 'quy_định': 554,\n",
              " 'như_không': 555,\n",
              " 'có_lẽ': 556,\n",
              " 'đăng_ký': 557,\n",
              " 'luyện_tập': 558,\n",
              " 'bắt_buộc': 559,\n",
              " 'góp_ý': 560,\n",
              " 'dịch': 561,\n",
              " 'ok': 562,\n",
              " 'ngủ': 563,\n",
              " 'chủ_đề': 564,\n",
              " 'bộ': 565,\n",
              " 'trùng': 566,\n",
              " 'chịu': 567,\n",
              " 'mong_muốn': 568,\n",
              " 'hướng_dẫn_giải': 569,\n",
              " 'trục_trặc': 570,\n",
              " 'đem': 571,\n",
              " 'khó_chịu': 572,\n",
              " 'to': 573,\n",
              " 'độ': 574,\n",
              " 'chuyển': 575,\n",
              " 'trừu_tượng': 576,\n",
              " 'đa_phần': 577,\n",
              " 'phát_triển': 578,\n",
              " 'cặn_kẽ': 579,\n",
              " 'mức': 580,\n",
              " 'tương_đối': 581,\n",
              " 'hầu_hết': 582,\n",
              " 'bảo': 583,\n",
              " 'lý_do': 584,\n",
              " 'đáp_án': 585,\n",
              " 'đẹp': 586,\n",
              " 'speaking': 587,\n",
              " 'cuối_cùng': 588,\n",
              " 'web': 589,\n",
              " 'chuyên_nghiệp': 590,\n",
              " 'nhu_cầu': 591,\n",
              " 'giảng_đường': 592,\n",
              " 'bản_thân': 593,\n",
              " 'chọn': 594,\n",
              " 'cài_đặt': 595,\n",
              " 'đổi_mới': 596,\n",
              " 'phục_vụ': 597,\n",
              " 'thành': 598,\n",
              " 'sư_phạm': 599,\n",
              " 'tận_dụng': 600,\n",
              " 'giấy': 601,\n",
              " 'tiếp_tục': 602,\n",
              " 'kéo_dài': 603,\n",
              " 'điều_chỉnh': 604,\n",
              " 'năng_nổ': 605,\n",
              " 'hình_dung': 606,\n",
              " 'nhận_xét': 607,\n",
              " 'căng_thẳng': 608,\n",
              " 'khắc_phục': 609,\n",
              " 'cách_thức': 610,\n",
              " 'tận': 611,\n",
              " 'xuống': 612,\n",
              " 'thông_qua': 613,\n",
              " 'bàn': 614,\n",
              " 'cởi_mở': 615,\n",
              " 'lĩnh_vực': 616,\n",
              " 'đổi': 617,\n",
              " 'trẻ': 618,\n",
              " 'đồng_thời': 619,\n",
              " 'nhanh_chóng': 620,\n",
              " 'ồn': 621,\n",
              " 'sáng': 622,\n",
              " 'rớt': 623,\n",
              " 'cấp': 624,\n",
              " 'chiều': 625,\n",
              " 'nguồn': 626,\n",
              " 'sửa_chữa': 627,\n",
              " 'colonsmilesmile': 628,\n",
              " 'đỡ': 629,\n",
              " 'cuộc_sống': 630,\n",
              " 'toán': 631,\n",
              " 'bình_thường': 632,\n",
              " 'khuyến_khích': 633,\n",
              " 'xây_dựng': 634,\n",
              " 'chờ': 635,\n",
              " 'thưa': 636,\n",
              " 'học_viên': 637,\n",
              " 'tín_chỉ': 638,\n",
              " 'tinh_thần': 639,\n",
              " 'tên': 640,\n",
              " 'cấu_trúc': 641,\n",
              " 'biểu': 642,\n",
              " 'làm_sao': 643,\n",
              " 'sâu_rộng': 644,\n",
              " 'tiếp_xúc': 645,\n",
              " 'trời': 646,\n",
              " 'qua_loa': 647,\n",
              " 'lẫn': 648,\n",
              " 'hỏng': 649,\n",
              " 'nhằm': 650,\n",
              " 'copy': 651,\n",
              " 'nhập_môn': 652,\n",
              " 'thí_nghiệm': 653,\n",
              " 'chung_chung': 654,\n",
              " 'dài_dòng': 655,\n",
              " 'nền_tảng': 656,\n",
              " 'kiến': 657,\n",
              " 'trưởng': 658,\n",
              " 'trắc_nghiệm': 659,\n",
              " 'xảy': 660,\n",
              " 'nửa': 661,\n",
              " 'ý_nghĩa': 662,\n",
              " 'cài': 663,\n",
              " 'hết_mình': 664,\n",
              " 'kêu': 665,\n",
              " 'tháng': 666,\n",
              " 'tổng_quát': 667,\n",
              " 'kịp_thời': 668,\n",
              " 'sai_sót': 669,\n",
              " 'google': 670,\n",
              " 'cạnh': 671,\n",
              " 'truyền_cảm': 672,\n",
              " 'kèm': 673,\n",
              " 'câu_chuyện': 674,\n",
              " 'nước_ngoài': 675,\n",
              " 'nghề': 676,\n",
              " 'cười': 677,\n",
              " 'laptop': 678,\n",
              " 'tải': 679,\n",
              " 'courses': 680,\n",
              " 'rút': 681,\n",
              " 'phát_biểu': 682,\n",
              " 'xử_lý': 683,\n",
              " 'cuộc': 684,\n",
              " 'mục': 685,\n",
              " 'kit': 686,\n",
              " 'sắp': 687,\n",
              " 'hệ': 688,\n",
              " 'sinh': 689,\n",
              " 'việc_làm': 690,\n",
              " 'dụng_cụ': 691,\n",
              " 'đẹp_trai': 692,\n",
              " 'đại_học': 693,\n",
              " 'đầu_tiên': 694,\n",
              " 'tuyệt': 695,\n",
              " 'chiếm': 696,\n",
              " 'phép': 697,\n",
              " 'trung_bình': 698,\n",
              " 'nhắc': 699,\n",
              " 'coi': 700,\n",
              " 'xã_hội': 701,\n",
              " 'có_ích': 702,\n",
              " 'tối_đa': 703,\n",
              " 'course': 704,\n",
              " 'khách_quan': 705,\n",
              " 'ân_cần': 706,\n",
              " 'khắt_khe': 707,\n",
              " 'suy_nghĩ': 708,\n",
              " 'sôi_động': 709,\n",
              " 'lập': 710,\n",
              " 'file': 711,\n",
              " 'tìm_kiếm': 712,\n",
              " 'linh_hoạt': 713,\n",
              " 'vdotv': 714,\n",
              " 'công_ty': 715,\n",
              " 'kỹ_thuật': 716,\n",
              " 'chán_nản': 717,\n",
              " 'khảo_sát': 718,\n",
              " 'phát_huy': 719,\n",
              " 'colonsad': 720,\n",
              " 'kể_cả': 721,\n",
              " 'nhắc_nhở': 722,\n",
              " 'hướng_dẫn_nhiệt_tình': 723,\n",
              " 'vì_vậy': 724,\n",
              " 'cấu_hình': 725,\n",
              " 'chơi': 726,\n",
              " 'học_phần': 727,\n",
              " 'colonlove': 728,\n",
              " 'điểm_cao': 729,\n",
              " 'bỏ_qua': 730,\n",
              " 'hoàn_thiện': 731,\n",
              " 'nhẹ_nhàng': 732,\n",
              " 'bữa': 733,\n",
              " 'vững': 734,\n",
              " 'học_hỏi': 735,\n",
              " 'vui_nhộn': 736,\n",
              " 'hoà_đồng': 737,\n",
              " 'thử': 738,\n",
              " 'đề_cập': 739,\n",
              " 'ha': 740,\n",
              " 'trưa': 741,\n",
              " 'hạn': 742,\n",
              " 'đời_sống': 743,\n",
              " 'buồn': 744,\n",
              " 'hiểu_biết': 745,\n",
              " 'đăng': 746,\n",
              " 'bao_nhiêu': 747,\n",
              " 'nói_khó': 748,\n",
              " 'học_sinh_động': 749,\n",
              " 'đáng': 750,\n",
              " 'lời_giải': 751,\n",
              " 'dặn': 752,\n",
              " 'thành_viên': 753,\n",
              " 'tóm': 754,\n",
              " 'chả': 755,\n",
              " 'đặc_thù': 756,\n",
              " 'lòng': 757,\n",
              " 'trở_nên': 758,\n",
              " 'điện': 759,\n",
              " 'xếp': 760,\n",
              " 'sức': 761,\n",
              " 'nhập': 762,\n",
              " 'vô': 763,\n",
              " 'lắp': 764,\n",
              " 'ban_đầu': 765,\n",
              " 'hãy': 766,\n",
              " 'từ_vựng': 767,\n",
              " 'rèm': 768,\n",
              " 'lúc_nào': 769,\n",
              " 'liên_kết': 770,\n",
              " 'kênh': 771,\n",
              " 'môi_trường': 772,\n",
              " 'có_mặt': 773,\n",
              " 'thỉnh_thoảng': 774,\n",
              " 'giáo_án': 775,\n",
              " 'nguyên_tắc': 776,\n",
              " 'tiếp_theo': 777,\n",
              " 'studio': 778,\n",
              " 'chênh_lệch': 779,\n",
              " 'đóng': 780,\n",
              " 'xem_xét': 781,\n",
              " 'hi_vọng': 782,\n",
              " 'hiền_lành': 783,\n",
              " 'tập': 784,\n",
              " 'lâu_lâu': 785,\n",
              " 'bao_quát': 786,\n",
              " 'phương_thức': 787,\n",
              " 'điện_thoại': 788,\n",
              " 'ngoại': 789,\n",
              " 'thấp': 790,\n",
              " 'tầm': 791,\n",
              " 'áp_đặt': 792,\n",
              " 'chú_tâm': 793,\n",
              " 'xinh': 794,\n",
              " 'quả': 795,\n",
              " 'đợi': 796,\n",
              " 'xác_định': 797,\n",
              " 'đều_đặn': 798,\n",
              " 'soạn': 799,\n",
              " 'tiền': 800,\n",
              " 'chuyên': 801,\n",
              " 'bài_làm': 802,\n",
              " 'chuyên_cần': 803,\n",
              " 'dường_như': 804,\n",
              " 'thành_công': 805,\n",
              " 'máy_móc': 806,\n",
              " 'dựa': 807,\n",
              " 'đột_xuất': 808,\n",
              " 'sâu_sắc': 809,\n",
              " 'hàng': 810,\n",
              " 'ý_tưởng': 811,\n",
              " 'tính_chất': 812,\n",
              " 'thẳng': 813,\n",
              " 'đối_tượng': 814,\n",
              " 'song_song': 815,\n",
              " 'xem_xét_lại': 816,\n",
              " 'kích_thích': 817,\n",
              " 'chất': 818,\n",
              " 'nổi': 819,\n",
              " 'internet': 820,\n",
              " 'năng_lực': 821,\n",
              " 'đậu': 822,\n",
              " 'wecode': 823,\n",
              " 'trừ': 824,\n",
              " 'thích_hợp': 825,\n",
              " 'một_tí': 826,\n",
              " 'tích': 827,\n",
              " 'java': 828,\n",
              " 'mạnh': 829,\n",
              " 'chéo': 830,\n",
              " 'dòng': 831,\n",
              " 'học_trò': 832,\n",
              " 'quý': 833,\n",
              " 'mệt_mỏi': 834,\n",
              " 'nghĩa': 835,\n",
              " 'chắc_chắn': 836,\n",
              " 'công_cụ': 837,\n",
              " 'suốt': 838,\n",
              " 'kia': 839,\n",
              " 'điều_hành': 840,\n",
              " 'ngoài_lề': 841,\n",
              " 'tìm_tòi': 842,\n",
              " 'coloncontemn': 843,\n",
              " 'phần_nào': 844,\n",
              " 'phần_lớn': 845,\n",
              " 'kiếm': 846,\n",
              " 'doanh_nghiệp': 847,\n",
              " 'tại_sao': 848,\n",
              " 'thu': 849,\n",
              " 'công_thức': 850,\n",
              " 'hình_ảnh': 851,\n",
              " 'colonbigsmile': 852,\n",
              " 'tâm_lý_học_sinh': 853,\n",
              " 'thuộc': 854,\n",
              " 'sức_khỏe': 855,\n",
              " 'tôn_trọng': 856,\n",
              " 'phản_hồi': 857,\n",
              " 'kết_nối': 858,\n",
              " 'hư_hỏng': 859,\n",
              " 'vệ_sinh': 860,\n",
              " 'dây': 861,\n",
              " 'chút_xíu': 862,\n",
              " 'bản_chất': 863,\n",
              " 'ngoại_ngữ': 864,\n",
              " 'ghế': 865,\n",
              " 'đoạn': 866,\n",
              " 'cập': 867,\n",
              " 'quý_báu': 868,\n",
              " 'nặng_nề': 869,\n",
              " 'thức': 870,\n",
              " 'khung': 871,\n",
              " 'phía': 872,\n",
              " 'tình_hình': 873,\n",
              " 'tổng_hợp': 874,\n",
              " 'quen': 875,\n",
              " 'hiện_đại': 876,\n",
              " 'thể': 877,\n",
              " 'khía_cạnh': 878,\n",
              " 'làm_quen': 879,\n",
              " 'di_động': 880,\n",
              " 'thất_vọng': 881,\n",
              " 'màn': 882,\n",
              " 'che': 883,\n",
              " 'cân_bằng': 884,\n",
              " 'mô_phỏng': 885,\n",
              " 'cố_định': 886,\n",
              " 'liền': 887,\n",
              " 'lạc_bộ': 888,\n",
              " 'giữ': 889,\n",
              " 'lố': 890,\n",
              " 'đòi_hỏi': 891,\n",
              " 'phức_tạp': 892,\n",
              " 'chuột': 893,\n",
              " 'đạo_đức': 894,\n",
              " 'tân': 895,\n",
              " 'kính': 896,\n",
              " 'thực': 897,\n",
              " 'thiết_nghĩ': 898,\n",
              " 'kiên_nhẫn': 899,\n",
              " 'mời': 900,\n",
              " 'ấy': 901,\n",
              " 'phân_biệt': 902,\n",
              " 'đường': 903,\n",
              " 'gọi': 904,\n",
              " 'lối': 905,\n",
              " 'xúc': 906,\n",
              " 'toàn_bộ': 907,\n",
              " 'thay_thế': 908,\n",
              " 'lưu_ý': 909,\n",
              " 'sự_cố': 910,\n",
              " 'lời': 911,\n",
              " 'chém': 912,\n",
              " 'thầy_vẻ': 913,\n",
              " 'học_phí': 914,\n",
              " 'nhúng': 915,\n",
              " 'phân_chia': 916,\n",
              " 'thi_cử': 917,\n",
              " 'thiếu_sót': 918,\n",
              " 'nhất_là': 919,\n",
              " 'ghi_chép': 920,\n",
              " 'suông': 921,\n",
              " 'post': 922,\n",
              " 'phát': 923,\n",
              " 'email': 924,\n",
              " 'liên_lạc': 925,\n",
              " 'hi_hi': 926,\n",
              " 'thiên': 927,\n",
              " 'sản_phẩm': 928,\n",
              " 'tậm': 929,\n",
              " 'loại': 930,\n",
              " 'source': 931,\n",
              " 'chúng_em': 932,\n",
              " 'bây_giờ': 933,\n",
              " 'chịu_khó': 934,\n",
              " 'đầy': 935,\n",
              " 'sơ': 936,\n",
              " 'gợi_ý': 937,\n",
              " 'logic': 938,\n",
              " 'thiện_cảm': 939,\n",
              " 'giải_tích': 940,\n",
              " 'nhiệt': 941,\n",
              " 'chủ_quan': 942,\n",
              " 'viên': 943,\n",
              " 'virus': 944,\n",
              " 'bất_cứ': 945,\n",
              " 'ban': 946,\n",
              " 'chấp_nhận': 947,\n",
              " 'cửa': 948,\n",
              " 'html': 949,\n",
              " 'mô_tả': 950,\n",
              " 'buộc': 951,\n",
              " 'nhầm_lẫn': 952,\n",
              " 'biên_soạn': 953,\n",
              " 'tự_tin': 954,\n",
              " 'phiên_bản': 955,\n",
              " 'khối_lượng': 956,\n",
              " 'giải_lao': 957,\n",
              " 'bức_xúc': 958,\n",
              " 'súc_tích': 959,\n",
              " 'luôn_luôn': 960,\n",
              " 'dám': 961,\n",
              " 'mới_mẻ': 962,\n",
              " 'khâu': 963,\n",
              " 'cao_kiến_thức': 964,\n",
              " 'phổ_biến': 965,\n",
              " 'gò_bó': 966,\n",
              " 'thậm_chí': 967,\n",
              " 'gắn': 968,\n",
              " 'hằng': 969,\n",
              " 'kinh_tế': 970,\n",
              " 'cố': 971,\n",
              " 'tương_tự': 972,\n",
              " 'nhiệt_tâm': 973,\n",
              " 'hăng_say': 974,\n",
              " 'hành_lang': 975,\n",
              " 'cửa_sổ': 976,\n",
              " 'tự_nhiên': 977,\n",
              " 'vận_động': 978,\n",
              " 'mảng': 979,\n",
              " 'thực_tập': 980,\n",
              " 'không_thể_nào': 981,\n",
              " 'thu_hoạch': 982,\n",
              " 'nhầm': 983,\n",
              " 'vì_thế': 984,\n",
              " 'thích_thú': 985,\n",
              " 'trung': 986,\n",
              " 'lỗi_thời': 987,\n",
              " 'quét': 988,\n",
              " 'lựa_chọn': 989,\n",
              " 'bảo_trì': 990,\n",
              " 'khúc_mắc': 991,\n",
              " 'trang_web': 992,\n",
              " 'dotdotdot': 993,\n",
              " 'it': 994,\n",
              " 'không_gian': 995,\n",
              " 'khái_quát': 996,\n",
              " 'chang': 997,\n",
              " 'windows': 998,\n",
              " 'bất_kỳ': 999,\n",
              " 'hết_sức': 1000,\n",
              " ...}"
            ]
          },
          "metadata": {},
          "execution_count": 16
        }
      ]
    },
    {
      "cell_type": "code",
      "source": [
        "padded_x_train = tokenizer.texts_to_sequences(x_train)\n",
        "padded_x_train = pad_sequences(padded_x_train, maxlen = 140)\n",
        "padded_x_train.shape"
      ],
      "metadata": {
        "colab": {
          "base_uri": "https://localhost:8080/"
        },
        "id": "tYdEZU_ziGuO",
        "outputId": "b3dd636f-f5c0-4691-9cd2-f0e7782834cc"
      },
      "execution_count": null,
      "outputs": [
        {
          "output_type": "execute_result",
          "data": {
            "text/plain": [
              "(10214, 140)"
            ]
          },
          "metadata": {},
          "execution_count": 17
        }
      ]
    },
    {
      "cell_type": "code",
      "source": [
        ""
      ],
      "metadata": {
        "id": "L0fCekO0iLek"
      },
      "execution_count": null,
      "outputs": []
    },
    {
      "cell_type": "code",
      "source": [
        ""
      ],
      "metadata": {
        "id": "ooCLRPpQl5bk"
      },
      "execution_count": null,
      "outputs": []
    },
    {
      "cell_type": "code",
      "source": [
        "padded_x_test = tokenizer.texts_to_sequences(x_test)\n",
        "padded_x_test = pad_sequences(padded_x_test, maxlen = 140)\n",
        "padded_x_test.shape"
      ],
      "metadata": {
        "colab": {
          "base_uri": "https://localhost:8080/"
        },
        "id": "BlwaDuo6l7Ht",
        "outputId": "0f609793-1879-4c74-f5ed-49019f5a6cb7"
      },
      "execution_count": null,
      "outputs": [
        {
          "output_type": "execute_result",
          "data": {
            "text/plain": [
              "(4378, 140)"
            ]
          },
          "metadata": {},
          "execution_count": 18
        }
      ]
    },
    {
      "cell_type": "code",
      "source": [
        "padded_x_train.shape[1]"
      ],
      "metadata": {
        "colab": {
          "base_uri": "https://localhost:8080/"
        },
        "id": "Y4Ab83mQvV0u",
        "outputId": "9819cea0-149f-4652-fd51-af36b6493bc2"
      },
      "execution_count": null,
      "outputs": [
        {
          "output_type": "execute_result",
          "data": {
            "text/plain": [
              "140"
            ]
          },
          "metadata": {},
          "execution_count": 19
        }
      ]
    },
    {
      "cell_type": "code",
      "source": [
        "len(word_model.wv.vocab)"
      ],
      "metadata": {
        "colab": {
          "base_uri": "https://localhost:8080/"
        },
        "id": "PNxIhJWUvdXD",
        "outputId": "3dd24731-7a60-442b-92be-cf3662a51c51"
      },
      "execution_count": null,
      "outputs": [
        {
          "output_type": "execute_result",
          "data": {
            "text/plain": [
              "3186"
            ]
          },
          "metadata": {},
          "execution_count": 20
        }
      ]
    },
    {
      "cell_type": "code",
      "source": [
        " enumerate(word_model.wv.vectors)"
      ],
      "metadata": {
        "colab": {
          "base_uri": "https://localhost:8080/"
        },
        "id": "dcc28j-Qvtt2",
        "outputId": "4cf358a0-37ea-41be-b7ed-5eaface8f265"
      },
      "execution_count": null,
      "outputs": [
        {
          "output_type": "execute_result",
          "data": {
            "text/plain": [
              "<enumerate at 0x7f096e0c5780>"
            ]
          },
          "metadata": {},
          "execution_count": 21
        }
      ]
    },
    {
      "cell_type": "code",
      "source": [
        "padded_x_train = np.array(padded_x_train)\n",
        "y_train = np.array(y_train)\n",
        "padded_x_test = np.array(padded_x_test)\n",
        "y_test = np.array(y_test)"
      ],
      "metadata": {
        "id": "jVSEEKAin_bv"
      },
      "execution_count": null,
      "outputs": []
    },
    {
      "cell_type": "code",
      "source": [
        "callback = tf.keras.callbacks.EarlyStopping(monitor='loss', patience=3)\n",
        "\n",
        "embedding_matrix = np.zeros((len(word_model.wv.vocab) + 1, 300))\n",
        "for i, vec in enumerate(word_model.wv.vectors):\n",
        "  embedding_matrix[i] = vec\n",
        "model = Sequential()\n",
        "model.add(Embedding(len(word_model.wv.vocab) +1,300,input_length=padded_x_train.shape[1],weights=[embedding_matrix],trainable=False))\n",
        "model.add(LSTM(300,return_sequences=False))\n",
        "model.add(Flatten())\n",
        "model.add(Dense(3,activation=\"softmax\"))\n",
        "model.summary()\n",
        "model.compile(optimizer=\"adam\",loss=\"categorical_crossentropy\",metrics=['acc'])\n",
        "batch = 64\n",
        "epochs = 100\n",
        "history = model.fit(padded_x_train,y_train,batch,epochs,steps_per_epoch=50, validation_data=(padded_x_test, y_test),callbacks = [callback])"
      ],
      "metadata": {
        "colab": {
          "base_uri": "https://localhost:8080/"
        },
        "id": "KOIUy7eLm6b2",
        "outputId": "6b9d04d5-fd14-4f56-ffc2-335b6cabf5e8"
      },
      "execution_count": null,
      "outputs": [
        {
          "output_type": "stream",
          "name": "stdout",
          "text": [
            "Model: \"sequential\"\n",
            "_________________________________________________________________\n",
            " Layer (type)                Output Shape              Param #   \n",
            "=================================================================\n",
            " embedding (Embedding)       (None, 140, 300)          956100    \n",
            "                                                                 \n",
            " lstm (LSTM)                 (None, 300)               721200    \n",
            "                                                                 \n",
            " flatten (Flatten)           (None, 300)               0         \n",
            "                                                                 \n",
            " dense (Dense)               (None, 3)                 903       \n",
            "                                                                 \n",
            "=================================================================\n",
            "Total params: 1,678,203\n",
            "Trainable params: 722,103\n",
            "Non-trainable params: 956,100\n",
            "_________________________________________________________________\n",
            "Epoch 1/100\n",
            "50/50 [==============================] - 82s 2s/step - loss: 0.7963 - acc: 0.5891 - val_loss: 0.7821 - val_acc: 0.6249\n",
            "Epoch 2/100\n",
            "50/50 [==============================] - 73s 1s/step - loss: 0.7409 - acc: 0.6450 - val_loss: 0.7276 - val_acc: 0.6581\n",
            "Epoch 3/100\n",
            "50/50 [==============================] - 73s 1s/step - loss: 0.7078 - acc: 0.6600 - val_loss: 0.6791 - val_acc: 0.6900\n",
            "Epoch 4/100\n",
            "50/50 [==============================] - 72s 1s/step - loss: 0.6836 - acc: 0.6856 - val_loss: 0.7102 - val_acc: 0.6752\n",
            "Epoch 5/100\n",
            "50/50 [==============================] - 73s 1s/step - loss: 0.6658 - acc: 0.6950 - val_loss: 0.6704 - val_acc: 0.7063\n",
            "Epoch 6/100\n",
            "50/50 [==============================] - 73s 1s/step - loss: 0.6514 - acc: 0.7066 - val_loss: 0.6364 - val_acc: 0.7149\n",
            "Epoch 7/100\n",
            "50/50 [==============================] - 73s 1s/step - loss: 0.6408 - acc: 0.7237 - val_loss: 0.6818 - val_acc: 0.7012\n",
            "Epoch 8/100\n",
            "50/50 [==============================] - 73s 1s/step - loss: 0.5980 - acc: 0.7466 - val_loss: 0.5954 - val_acc: 0.7430\n",
            "Epoch 9/100\n",
            "50/50 [==============================] - 75s 2s/step - loss: 0.5973 - acc: 0.7444 - val_loss: 0.5974 - val_acc: 0.7451\n",
            "Epoch 10/100\n",
            "50/50 [==============================] - 73s 1s/step - loss: 0.5778 - acc: 0.7508 - val_loss: 0.5756 - val_acc: 0.7636\n",
            "Epoch 11/100\n",
            "50/50 [==============================] - 73s 1s/step - loss: 0.5964 - acc: 0.7456 - val_loss: 0.6257 - val_acc: 0.7254\n",
            "Epoch 12/100\n",
            "50/50 [==============================] - 73s 1s/step - loss: 0.5804 - acc: 0.7547 - val_loss: 0.5764 - val_acc: 0.7513\n",
            "Epoch 13/100\n",
            "50/50 [==============================] - 74s 1s/step - loss: 0.5560 - acc: 0.7631 - val_loss: 0.5521 - val_acc: 0.7748\n",
            "Epoch 14/100\n",
            "50/50 [==============================] - 74s 1s/step - loss: 0.5248 - acc: 0.7819 - val_loss: 0.5612 - val_acc: 0.7693\n",
            "Epoch 15/100\n",
            "50/50 [==============================] - 73s 1s/step - loss: 0.5321 - acc: 0.7728 - val_loss: 0.6111 - val_acc: 0.7426\n",
            "Epoch 16/100\n",
            "50/50 [==============================] - 73s 1s/step - loss: 0.5459 - acc: 0.7741 - val_loss: 0.5510 - val_acc: 0.7775\n",
            "Epoch 17/100\n",
            "50/50 [==============================] - 74s 1s/step - loss: 0.5094 - acc: 0.7928 - val_loss: 0.5243 - val_acc: 0.7837\n",
            "Epoch 18/100\n",
            "50/50 [==============================] - 73s 1s/step - loss: 0.5354 - acc: 0.7713 - val_loss: 0.5376 - val_acc: 0.7787\n",
            "Epoch 19/100\n",
            "50/50 [==============================] - 73s 1s/step - loss: 0.5172 - acc: 0.7891 - val_loss: 0.5315 - val_acc: 0.7794\n",
            "Epoch 20/100\n",
            "50/50 [==============================] - 73s 1s/step - loss: 0.4909 - acc: 0.7958 - val_loss: 0.5174 - val_acc: 0.7876\n",
            "Epoch 21/100\n",
            "50/50 [==============================] - 73s 1s/step - loss: 0.5033 - acc: 0.7997 - val_loss: 0.5156 - val_acc: 0.7855\n",
            "Epoch 22/100\n",
            "50/50 [==============================] - 73s 1s/step - loss: 0.4843 - acc: 0.8081 - val_loss: 0.5089 - val_acc: 0.7944\n",
            "Epoch 23/100\n",
            "50/50 [==============================] - 73s 1s/step - loss: 0.4784 - acc: 0.8081 - val_loss: 0.5187 - val_acc: 0.7892\n",
            "Epoch 24/100\n",
            "50/50 [==============================] - 73s 1s/step - loss: 0.4826 - acc: 0.8031 - val_loss: 0.5139 - val_acc: 0.7862\n",
            "Epoch 25/100\n",
            "50/50 [==============================] - 73s 1s/step - loss: 0.4632 - acc: 0.8147 - val_loss: 0.5021 - val_acc: 0.7935\n",
            "Epoch 26/100\n",
            "50/50 [==============================] - 73s 1s/step - loss: 0.4752 - acc: 0.8062 - val_loss: 0.5106 - val_acc: 0.7896\n",
            "Epoch 27/100\n",
            "50/50 [==============================] - 73s 1s/step - loss: 0.4487 - acc: 0.8256 - val_loss: 0.5074 - val_acc: 0.7910\n",
            "Epoch 28/100\n",
            "50/50 [==============================] - 73s 1s/step - loss: 0.4909 - acc: 0.7969 - val_loss: 0.5041 - val_acc: 0.7956\n",
            "Epoch 29/100\n",
            "50/50 [==============================] - 72s 1s/step - loss: 0.4269 - acc: 0.8233 - val_loss: 0.5450 - val_acc: 0.7757\n",
            "Epoch 30/100\n",
            "50/50 [==============================] - 73s 1s/step - loss: 0.4328 - acc: 0.8203 - val_loss: 0.5180 - val_acc: 0.7860\n",
            "Epoch 31/100\n",
            "50/50 [==============================] - 74s 1s/step - loss: 0.4383 - acc: 0.8300 - val_loss: 0.5090 - val_acc: 0.7917\n",
            "Epoch 32/100\n",
            "50/50 [==============================] - 75s 2s/step - loss: 0.4518 - acc: 0.8160 - val_loss: 0.5097 - val_acc: 0.7931\n"
          ]
        }
      ]
    },
    {
      "cell_type": "code",
      "source": [
        "!pip install matplotlib"
      ],
      "metadata": {
        "colab": {
          "base_uri": "https://localhost:8080/"
        },
        "id": "2z9lce4VgmOi",
        "outputId": "06426a38-6733-4744-942d-9e8ce8e8fcf8"
      },
      "execution_count": null,
      "outputs": [
        {
          "output_type": "stream",
          "name": "stdout",
          "text": [
            "Requirement already satisfied: matplotlib in /usr/local/lib/python3.7/dist-packages (3.2.2)\n",
            "Requirement already satisfied: kiwisolver>=1.0.1 in /usr/local/lib/python3.7/dist-packages (from matplotlib) (1.3.2)\n",
            "Requirement already satisfied: python-dateutil>=2.1 in /usr/local/lib/python3.7/dist-packages (from matplotlib) (2.8.2)\n",
            "Requirement already satisfied: pyparsing!=2.0.4,!=2.1.2,!=2.1.6,>=2.0.1 in /usr/local/lib/python3.7/dist-packages (from matplotlib) (3.0.7)\n",
            "Requirement already satisfied: cycler>=0.10 in /usr/local/lib/python3.7/dist-packages (from matplotlib) (0.11.0)\n",
            "Requirement already satisfied: numpy>=1.11 in /usr/local/lib/python3.7/dist-packages (from matplotlib) (1.19.5)\n",
            "Requirement already satisfied: six>=1.5 in /usr/local/lib/python3.7/dist-packages (from python-dateutil>=2.1->matplotlib) (1.15.0)\n"
          ]
        }
      ]
    },
    {
      "cell_type": "code",
      "source": [
        "import matplotlib.pyplot as plt"
      ],
      "metadata": {
        "id": "GsS1TnJggv2i"
      },
      "execution_count": null,
      "outputs": []
    },
    {
      "cell_type": "code",
      "source": [
        "test_sen = [\"Giáo viên djay dễ hiểu\"]\n",
        "test_seq = tokenizer.texts_to_sequences(test_sen)\n",
        "padded_test_seq = pad_sequences(test_seq, maxlen = 140)\n",
        "model.predict(padded_test_seq)"
      ],
      "metadata": {
        "colab": {
          "base_uri": "https://localhost:8080/"
        },
        "id": "eQ31yJnYgyfk",
        "outputId": "e6c18d57-75a0-4de8-fe32-d3ed39fa5210"
      },
      "execution_count": null,
      "outputs": [
        {
          "output_type": "execute_result",
          "data": {
            "text/plain": [
              "array([[0.98734343, 0.00260392, 0.01005271]], dtype=float32)"
            ]
          },
          "metadata": {},
          "execution_count": 39
        }
      ]
    },
    {
      "cell_type": "code",
      "source": [
        ""
      ],
      "metadata": {
        "colab": {
          "base_uri": "https://localhost:8080/"
        },
        "id": "VR47K7fjg0lW",
        "outputId": "63e4f0cc-4ede-4995-8d98-f05ec284d3e4"
      },
      "execution_count": null,
      "outputs": [
        {
          "output_type": "execute_result",
          "data": {
            "text/plain": [
              "array([[0.28827697, 0.08364219, 0.6280809 ]], dtype=float32)"
            ]
          },
          "metadata": {},
          "execution_count": 29
        }
      ]
    },
    {
      "cell_type": "code",
      "source": [
        "acc = history.history['acc']\n",
        "val_acc = history.history['val_acc']\n",
        "loss = history.history['loss']\n",
        "val_loss = history.history['val_loss']\n",
        "\n",
        "epochs = range(len(acc))\n",
        "plt.plot(epochs, acc, 'r', label='Training accuracy')\n",
        "plt.plot(epochs, val_acc, 'b', label='Validation accuracy')\n",
        "plt.title('Training and validation accuracy')\n",
        "plt.legend(loc=0)\n",
        "plt.figure()\n",
        "plt.show()"
      ],
      "metadata": {
        "colab": {
          "base_uri": "https://localhost:8080/",
          "height": 298
        },
        "id": "84iaWt2Pg4K0",
        "outputId": "78f5d766-00e7-472a-a357-a058c904539f"
      },
      "execution_count": null,
      "outputs": [
        {
          "output_type": "display_data",
          "data": {
            "image/png": "[encoded data removed]",
            "text/plain": [
              "<Figure size 432x288 with 1 Axes>"
            ]
          },
          "metadata": {
            "needs_background": "light"
          }
        },
        {
          "output_type": "display_data",
          "data": {
            "text/plain": [
              "<Figure size 432x288 with 0 Axes>"
            ]
          },
          "metadata": {}
        }
      ]
    },
    {
      "cell_type": "code",
      "source": [
        "plt.plot(epochs, loss, 'r', label='Training loss')\n",
        "plt.plot(epochs, val_loss, 'b', label='Validation loss')\n",
        "plt.title('Training and validation loss')\n",
        "plt.legend(loc=0)\n",
        "plt.figure()\n",
        "plt.show()"
      ],
      "metadata": {
        "colab": {
          "base_uri": "https://localhost:8080/",
          "height": 298
        },
        "id": "9dYEnnY8g6JM",
        "outputId": "1b10d875-0f94-4011-a92b-1c6d2a2e5cba"
      },
      "execution_count": null,
      "outputs": [
        {
          "output_type": "display_data",
          "data": {
            "image/png": "[encoded data removed]",
            "text/plain": [
              "<Figure size 432x288 with 1 Axes>"
            ]
          },
          "metadata": {
            "needs_background": "light"
          }
        },
        {
          "output_type": "display_data",
          "data": {
            "text/plain": [
              "<Figure size 432x288 with 0 Axes>"
            ]
          },
          "metadata": {}
        }
      ]
    },
    {
      "cell_type": "code",
      "source": [
        "y_pred = model.predict(padded_x_test, batch_size=50)\n",
        "labels = ['Tiêu cực', 'Trung tính', 'Tích cực']"
      ],
      "metadata": {
        "id": "m8dt7QdnhARa"
      },
      "execution_count": null,
      "outputs": []
    },
    {
      "cell_type": "code",
      "source": [
        "predY = []\n",
        "testY = []\n",
        "for i in range(2000):\n",
        "  y_p = np.argmax(y_pred[i])\n",
        "  y_t = np.argmax(y_test[i])\n",
        "  predY.append(y_p)\n",
        "  testY.append(y_t)"
      ],
      "metadata": {
        "id": "abY4NtvDhQwd"
      },
      "execution_count": null,
      "outputs": []
    },
    {
      "cell_type": "code",
      "source": [
        "cm = confusion_matrix(testY, predY)\n",
        "disp = ConfusionMatrixDisplay(confusion_matrix=cm, display_labels=labels)\n",
        "disp.plot(cmap=plt.cm.Blues)\n",
        "plt.show()"
      ],
      "metadata": {
        "colab": {
          "base_uri": "https://localhost:8080/",
          "height": 280
        },
        "id": "rancgE7JhI2Q",
        "outputId": "74209e0b-bcd7-401b-ee5f-a23bba57ce27"
      },
      "execution_count": null,
      "outputs": [
        {
          "output_type": "display_data",
          "data": {
            "image/png": "[encoded data removed]",
            "text/plain": [
              "<Figure size 432x288 with 2 Axes>"
            ]
          },
          "metadata": {
            "needs_background": "light"
          }
        }
      ]
    },
    {
      "cell_type": "code",
      "source": [
        "print(classification_report(testY, predY, target_names=labels))"
      ],
      "metadata": {
        "colab": {
          "base_uri": "https://localhost:8080/"
        },
        "id": "jYBbqTR_hUt3",
        "outputId": "f0dfa26a-a924-4675-ab8a-4f1d37a6b833"
      },
      "execution_count": null,
      "outputs": [
        {
          "output_type": "stream",
          "name": "stdout",
          "text": [
            "              precision    recall  f1-score   support\n",
            "\n",
            "    Tiêu cực       0.82      0.84      0.83       973\n",
            "  Trung tính       0.44      0.14      0.21        86\n",
            "    Tích cực       0.80      0.83      0.81       941\n",
            "\n",
            "    accuracy                           0.80      2000\n",
            "   macro avg       0.69      0.60      0.62      2000\n",
            "weighted avg       0.79      0.80      0.79      2000\n",
            "\n"
          ]
        }
      ]
    }
  ]
}